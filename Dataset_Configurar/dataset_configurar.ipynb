{
  "nbformat": 4,
  "nbformat_minor": 0,
  "metadata": {
    "colab": {
      "provenance": []
    },
    "kernelspec": {
      "name": "python3",
      "display_name": "Python 3"
    },
    "language_info": {
      "name": "python"
    }
  },
  "cells": [
    {
      "cell_type": "code",
      "execution_count": 1,
      "metadata": {
        "colab": {
          "base_uri": "https://localhost:8080/"
        },
        "id": "UmWm2dqvFFu1",
        "outputId": "35b379ee-eaf5-4186-ab48-6ea5930bfa95"
      },
      "outputs": [
        {
          "output_type": "stream",
          "name": "stdout",
          "text": [
            "Looking in indexes: https://pypi.org/simple, https://us-python.pkg.dev/colab-wheels/public/simple/\n",
            "Collecting faker\n",
            "  Downloading Faker-15.3.4-py3-none-any.whl (1.6 MB)\n",
            "\u001b[K     |████████████████████████████████| 1.6 MB 7.3 MB/s \n",
            "\u001b[?25hRequirement already satisfied: python-dateutil>=2.4 in /usr/local/lib/python3.8/dist-packages (from faker) (2.8.2)\n",
            "Requirement already satisfied: six>=1.5 in /usr/local/lib/python3.8/dist-packages (from python-dateutil>=2.4->faker) (1.15.0)\n",
            "Installing collected packages: faker\n",
            "Successfully installed faker-15.3.4\n"
          ]
        }
      ],
      "source": [
        "# Uso del Pip install para poder importar la librería faker\n",
        "!pip install faker"
      ]
    },
    {
      "cell_type": "code",
      "source": [
        "# Importar librería pandas para manejar y analizar datos\n",
        "import pandas as pd\n",
        "# Importar librería uuid para crear identificadores únicos.\n",
        "import uuid\n",
        "# Importar librería random para generar datos aleatorios.\n",
        "import random\n",
        "# Importar el paquete faker para generar datos fasos.\n",
        "from faker import Faker"
      ],
      "metadata": {
        "id": "w8NoJlFi5X2Q"
      },
      "execution_count": 2,
      "outputs": []
    },
    {
      "cell_type": "code",
      "source": [
        "# Delimitación del rango del número de elementos.\n",
        "num_configurar = 5000"
      ],
      "metadata": {
        "id": "K569KvKJ5g9S"
      },
      "execution_count": 3,
      "outputs": []
    },
    {
      "cell_type": "code",
      "source": [
        "#Instanciación faker\n",
        "faker = Faker()"
      ],
      "metadata": {
        "id": "54Szs5tYjJKO"
      },
      "execution_count": 4,
      "outputs": []
    },
    {
      "cell_type": "code",
      "source": [
        "# Una lista de 3 características para la entidad configurar\n",
        "features = [\n",
        "    \"descripcion_conf\",\n",
        "    \"Id_perm\",\n",
        "    \"Id_rol\"\n",
        "]\n",
        "# Creación de un DF para estas características\n",
        "df = pd.DataFrame(columns=features)"
      ],
      "metadata": {
        "id": "Vy2_QGUQ5kis"
      },
      "execution_count": 5,
      "outputs": []
    },
    {
      "cell_type": "code",
      "source": [
        "# Descripción por cada registro\n",
        "import string\n",
        "import random\n",
        "bio=[]\n",
        "length_of_string = 20\n",
        "random.seed()\n",
        "for i in range(0, num_configurar):\n",
        "  bio=(''.join(random.SystemRandom().choice(string.ascii_letters + string.digits) for i in range(length_of_string)))\n",
        "  df.descripcion_conf[i]=bio"
      ],
      "metadata": {
        "id": "cjGh78fsXYj2"
      },
      "execution_count": 13,
      "outputs": []
    },
    {
      "cell_type": "code",
      "source": [
        "# Fk \"Id_rol\"\n",
        "def idr_gen(n):\n",
        "    \"\"\"\n",
        "    Función que se encarga de crear un id unico con nomenclatura básica\n",
        "    ...\n",
        "    \n",
        "    Return\n",
        "    ------\n",
        "    \"ROL-\"+str(n+1) : str\n",
        "        id generado con nomenclatura\n",
        "    \"\"\"\n",
        "    return \"ROL-\"+str(n+1) # id para rol"
      ],
      "metadata": {
        "id": "Tq63enpk6srR"
      },
      "execution_count": 7,
      "outputs": []
    },
    {
      "cell_type": "code",
      "source": [
        "#Generacion de datos en cada atributo\n",
        "df['Id_rol'] = [idr_gen(i) for i in range(num_configurar)]"
      ],
      "metadata": {
        "id": "5d5u6bEq6AA3"
      },
      "execution_count": 8,
      "outputs": []
    },
    {
      "cell_type": "code",
      "source": [
        "# Fk \"Id_perm\"\n",
        "def idp_gen(n):\n",
        "    \"\"\"\n",
        "    Función para crear la id única\n",
        "    ...\n",
        "    Parametro\n",
        "    n : int\n",
        "        corresponde al numero indicador del registro correspondiente \n",
        "    \n",
        "    Return\n",
        "    ------\n",
        "    \"PERM-\"+str(n+1) : str\n",
        "        se crea las identificaciones únicas para los permisos\n",
        "    \"\"\"\n",
        "    return \"PERM-\"+str(n+1)"
      ],
      "metadata": {
        "id": "xIwJx3IAD1zT"
      },
      "execution_count": 9,
      "outputs": []
    },
    {
      "cell_type": "code",
      "source": [
        "df['Id_perm'] = [idp_gen(i) for i in range(num_configurar)]"
      ],
      "metadata": {
        "id": "CIEfmQ1AEB21"
      },
      "execution_count": 10,
      "outputs": []
    },
    {
      "cell_type": "code",
      "source": [
        "# Guardar el conjunto de datos\n",
        "df.to_csv('dataset_configurar.csv')"
      ],
      "metadata": {
        "id": "HJkvBuGH9Dvr"
      },
      "execution_count": 14,
      "outputs": []
    },
    {
      "cell_type": "code",
      "source": [
        "# Mostrar el conjunto de datos\n",
        "pd.read_csv('dataset_configurar.csv', index_col=0)"
      ],
      "metadata": {
        "colab": {
          "base_uri": "https://localhost:8080/",
          "height": 424
        },
        "id": "iSp4cMHd9G3k",
        "outputId": "922ac1c3-4f72-45be-8da9-671fe9f5058f"
      },
      "execution_count": 15,
      "outputs": [
        {
          "output_type": "execute_result",
          "data": {
            "text/plain": [
              "          descripcion_conf    Id_perm    Id_rol\n",
              "0     Uxe9sOJy4aEOY1FQbn0g     PERM-1     ROL-1\n",
              "1     FcCrvnaIY0iOK1Stgpvl     PERM-2     ROL-2\n",
              "2     Lb2RdxA3W3QeKRlZqfMJ     PERM-3     ROL-3\n",
              "3     07vsKm3tQb8AdBTFx5VF     PERM-4     ROL-4\n",
              "4     NHLyf2amuF3n7AmwKNcO     PERM-5     ROL-5\n",
              "...                    ...        ...       ...\n",
              "4995  J9eHJxDXZ5YFJBMu2F8S  PERM-4996  ROL-4996\n",
              "4996  lyKmYdky9gBZT2Fn9bIy  PERM-4997  ROL-4997\n",
              "4997  ls1l7CZPEVSvfpqko3UW  PERM-4998  ROL-4998\n",
              "4998  SDBqxeltS6tMOoOx6Xlu  PERM-4999  ROL-4999\n",
              "4999  NEOUe9VF182Fii8G8mRI  PERM-5000  ROL-5000\n",
              "\n",
              "[5000 rows x 3 columns]"
            ],
            "text/html": [
              "\n",
              "  <div id=\"df-6212ccbf-5735-491b-83e4-d971b9c82a7b\">\n",
              "    <div class=\"colab-df-container\">\n",
              "      <div>\n",
              "<style scoped>\n",
              "    .dataframe tbody tr th:only-of-type {\n",
              "        vertical-align: middle;\n",
              "    }\n",
              "\n",
              "    .dataframe tbody tr th {\n",
              "        vertical-align: top;\n",
              "    }\n",
              "\n",
              "    .dataframe thead th {\n",
              "        text-align: right;\n",
              "    }\n",
              "</style>\n",
              "<table border=\"1\" class=\"dataframe\">\n",
              "  <thead>\n",
              "    <tr style=\"text-align: right;\">\n",
              "      <th></th>\n",
              "      <th>descripcion_conf</th>\n",
              "      <th>Id_perm</th>\n",
              "      <th>Id_rol</th>\n",
              "    </tr>\n",
              "  </thead>\n",
              "  <tbody>\n",
              "    <tr>\n",
              "      <th>0</th>\n",
              "      <td>Uxe9sOJy4aEOY1FQbn0g</td>\n",
              "      <td>PERM-1</td>\n",
              "      <td>ROL-1</td>\n",
              "    </tr>\n",
              "    <tr>\n",
              "      <th>1</th>\n",
              "      <td>FcCrvnaIY0iOK1Stgpvl</td>\n",
              "      <td>PERM-2</td>\n",
              "      <td>ROL-2</td>\n",
              "    </tr>\n",
              "    <tr>\n",
              "      <th>2</th>\n",
              "      <td>Lb2RdxA3W3QeKRlZqfMJ</td>\n",
              "      <td>PERM-3</td>\n",
              "      <td>ROL-3</td>\n",
              "    </tr>\n",
              "    <tr>\n",
              "      <th>3</th>\n",
              "      <td>07vsKm3tQb8AdBTFx5VF</td>\n",
              "      <td>PERM-4</td>\n",
              "      <td>ROL-4</td>\n",
              "    </tr>\n",
              "    <tr>\n",
              "      <th>4</th>\n",
              "      <td>NHLyf2amuF3n7AmwKNcO</td>\n",
              "      <td>PERM-5</td>\n",
              "      <td>ROL-5</td>\n",
              "    </tr>\n",
              "    <tr>\n",
              "      <th>...</th>\n",
              "      <td>...</td>\n",
              "      <td>...</td>\n",
              "      <td>...</td>\n",
              "    </tr>\n",
              "    <tr>\n",
              "      <th>4995</th>\n",
              "      <td>J9eHJxDXZ5YFJBMu2F8S</td>\n",
              "      <td>PERM-4996</td>\n",
              "      <td>ROL-4996</td>\n",
              "    </tr>\n",
              "    <tr>\n",
              "      <th>4996</th>\n",
              "      <td>lyKmYdky9gBZT2Fn9bIy</td>\n",
              "      <td>PERM-4997</td>\n",
              "      <td>ROL-4997</td>\n",
              "    </tr>\n",
              "    <tr>\n",
              "      <th>4997</th>\n",
              "      <td>ls1l7CZPEVSvfpqko3UW</td>\n",
              "      <td>PERM-4998</td>\n",
              "      <td>ROL-4998</td>\n",
              "    </tr>\n",
              "    <tr>\n",
              "      <th>4998</th>\n",
              "      <td>SDBqxeltS6tMOoOx6Xlu</td>\n",
              "      <td>PERM-4999</td>\n",
              "      <td>ROL-4999</td>\n",
              "    </tr>\n",
              "    <tr>\n",
              "      <th>4999</th>\n",
              "      <td>NEOUe9VF182Fii8G8mRI</td>\n",
              "      <td>PERM-5000</td>\n",
              "      <td>ROL-5000</td>\n",
              "    </tr>\n",
              "  </tbody>\n",
              "</table>\n",
              "<p>5000 rows × 3 columns</p>\n",
              "</div>\n",
              "      <button class=\"colab-df-convert\" onclick=\"convertToInteractive('df-6212ccbf-5735-491b-83e4-d971b9c82a7b')\"\n",
              "              title=\"Convert this dataframe to an interactive table.\"\n",
              "              style=\"display:none;\">\n",
              "        \n",
              "  <svg xmlns=\"http://www.w3.org/2000/svg\" height=\"24px\"viewBox=\"0 0 24 24\"\n",
              "       width=\"24px\">\n",
              "    <path d=\"M0 0h24v24H0V0z\" fill=\"none\"/>\n",
              "    <path d=\"M18.56 5.44l.94 2.06.94-2.06 2.06-.94-2.06-.94-.94-2.06-.94 2.06-2.06.94zm-11 1L8.5 8.5l.94-2.06 2.06-.94-2.06-.94L8.5 2.5l-.94 2.06-2.06.94zm10 10l.94 2.06.94-2.06 2.06-.94-2.06-.94-.94-2.06-.94 2.06-2.06.94z\"/><path d=\"M17.41 7.96l-1.37-1.37c-.4-.4-.92-.59-1.43-.59-.52 0-1.04.2-1.43.59L10.3 9.45l-7.72 7.72c-.78.78-.78 2.05 0 2.83L4 21.41c.39.39.9.59 1.41.59.51 0 1.02-.2 1.41-.59l7.78-7.78 2.81-2.81c.8-.78.8-2.07 0-2.86zM5.41 20L4 18.59l7.72-7.72 1.47 1.35L5.41 20z\"/>\n",
              "  </svg>\n",
              "      </button>\n",
              "      \n",
              "  <style>\n",
              "    .colab-df-container {\n",
              "      display:flex;\n",
              "      flex-wrap:wrap;\n",
              "      gap: 12px;\n",
              "    }\n",
              "\n",
              "    .colab-df-convert {\n",
              "      background-color: #E8F0FE;\n",
              "      border: none;\n",
              "      border-radius: 50%;\n",
              "      cursor: pointer;\n",
              "      display: none;\n",
              "      fill: #1967D2;\n",
              "      height: 32px;\n",
              "      padding: 0 0 0 0;\n",
              "      width: 32px;\n",
              "    }\n",
              "\n",
              "    .colab-df-convert:hover {\n",
              "      background-color: #E2EBFA;\n",
              "      box-shadow: 0px 1px 2px rgba(60, 64, 67, 0.3), 0px 1px 3px 1px rgba(60, 64, 67, 0.15);\n",
              "      fill: #174EA6;\n",
              "    }\n",
              "\n",
              "    [theme=dark] .colab-df-convert {\n",
              "      background-color: #3B4455;\n",
              "      fill: #D2E3FC;\n",
              "    }\n",
              "\n",
              "    [theme=dark] .colab-df-convert:hover {\n",
              "      background-color: #434B5C;\n",
              "      box-shadow: 0px 1px 3px 1px rgba(0, 0, 0, 0.15);\n",
              "      filter: drop-shadow(0px 1px 2px rgba(0, 0, 0, 0.3));\n",
              "      fill: #FFFFFF;\n",
              "    }\n",
              "  </style>\n",
              "\n",
              "      <script>\n",
              "        const buttonEl =\n",
              "          document.querySelector('#df-6212ccbf-5735-491b-83e4-d971b9c82a7b button.colab-df-convert');\n",
              "        buttonEl.style.display =\n",
              "          google.colab.kernel.accessAllowed ? 'block' : 'none';\n",
              "\n",
              "        async function convertToInteractive(key) {\n",
              "          const element = document.querySelector('#df-6212ccbf-5735-491b-83e4-d971b9c82a7b');\n",
              "          const dataTable =\n",
              "            await google.colab.kernel.invokeFunction('convertToInteractive',\n",
              "                                                     [key], {});\n",
              "          if (!dataTable) return;\n",
              "\n",
              "          const docLinkHtml = 'Like what you see? Visit the ' +\n",
              "            '<a target=\"_blank\" href=https://colab.research.google.com/notebooks/data_table.ipynb>data table notebook</a>'\n",
              "            + ' to learn more about interactive tables.';\n",
              "          element.innerHTML = '';\n",
              "          dataTable['output_type'] = 'display_data';\n",
              "          await google.colab.output.renderOutput(dataTable, element);\n",
              "          const docLink = document.createElement('div');\n",
              "          docLink.innerHTML = docLinkHtml;\n",
              "          element.appendChild(docLink);\n",
              "        }\n",
              "      </script>\n",
              "    </div>\n",
              "  </div>\n",
              "  "
            ]
          },
          "metadata": {},
          "execution_count": 15
        }
      ]
    }
  ]
}
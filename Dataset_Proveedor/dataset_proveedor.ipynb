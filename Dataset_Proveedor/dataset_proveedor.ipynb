{
  "nbformat": 4,
  "nbformat_minor": 0,
  "metadata": {
    "colab": {
      "provenance": []
    },
    "kernelspec": {
      "name": "python3",
      "display_name": "Python 3"
    },
    "language_info": {
      "name": "python"
    }
  },
  "cells": [
    {
      "cell_type": "markdown",
      "metadata": {
        "id": "c6482288"
      },
      "source": [
        "# Conjunto de datos para la entidad \"Proveedor\""
      ]
    },
    {
      "cell_type": "code",
      "source": [
        "# Uso del Pip install para poder importar la librería faker\n",
        "!pip install faker"
      ],
      "metadata": {
        "colab": {
          "base_uri": "https://localhost:8080/"
        },
        "id": "5Pmntp36v7hn",
        "outputId": "98a81ac3-c07c-4031-cdf7-f492fc8e1a57"
      },
      "execution_count": 1,
      "outputs": [
        {
          "output_type": "stream",
          "name": "stdout",
          "text": [
            "Looking in indexes: https://pypi.org/simple, https://us-python.pkg.dev/colab-wheels/public/simple/\n",
            "Collecting faker\n",
            "  Downloading Faker-15.3.4-py3-none-any.whl (1.6 MB)\n",
            "\u001b[K     |████████████████████████████████| 1.6 MB 5.2 MB/s \n",
            "\u001b[?25hRequirement already satisfied: python-dateutil>=2.4 in /usr/local/lib/python3.8/dist-packages (from faker) (2.8.2)\n",
            "Requirement already satisfied: six>=1.5 in /usr/local/lib/python3.8/dist-packages (from python-dateutil>=2.4->faker) (1.15.0)\n",
            "Installing collected packages: faker\n",
            "Successfully installed faker-15.3.4\n"
          ]
        }
      ]
    },
    {
      "cell_type": "code",
      "execution_count": 2,
      "metadata": {
        "id": "97b3d6da"
      },
      "outputs": [],
      "source": [
        "# Importar librería pandas para manejar y analizar datos\n",
        "import pandas as pd\n",
        "# Importar librería uuid para crear identificadores únicos.\n",
        "import uuid\n",
        "# Importar librería random para generar datos aleatorios.\n",
        "import random\n",
        "# Importar el paquete faker para generar datos fasos.\n",
        "from faker import Faker"
      ]
    },
    {
      "cell_type": "code",
      "execution_count": 3,
      "metadata": {
        "id": "29f6b5ac"
      },
      "outputs": [],
      "source": [
        "# Delimitación del rango del número de elementos.\n",
        "num_proveedor = 5000"
      ]
    },
    {
      "cell_type": "code",
      "execution_count": 4,
      "metadata": {
        "id": "5a145d81"
      },
      "outputs": [],
      "source": [
        "# Una lista de 7 características para la entidad proveedor\n",
        "features = [\n",
        "    \"Id_pro\",\n",
        "    \"nombre_pro\",\n",
        "    \"tipo_pro\",\n",
        "    \"email_pro\",\n",
        "    \"telefono_pro\",\n",
        "    \"descripcion_pro\",\n",
        "    \"Status_pro\"\n",
        "]\n",
        "# Creación de un DF para estas características\n",
        "df = pd.DataFrame(columns=features)"
      ]
    },
    {
      "cell_type": "code",
      "execution_count": 5,
      "metadata": {
        "id": "9417eb1d"
      },
      "outputs": [],
      "source": [
        "def idm_gen(n):\n",
        "    \"\"\"\n",
        "    Función que se encarga de crear un id unico con nomenclatura básica\n",
        "    ...\n",
        "    \n",
        "    Parametros\n",
        "    ----------\n",
        "    n : int\n",
        "        representa el numero de indice correspondiente al registro\n",
        "    \n",
        "    Return\n",
        "    ------\n",
        "    \"MSL--\"+str(n+1) : str\n",
        "        nomenclatura única de identificación del proveedor correspondiente\n",
        "    \"\"\"\n",
        "    return \"Proveedor-\"+str(n+1)"
      ]
    },
    {
      "cell_type": "code",
      "execution_count": 6,
      "metadata": {
        "id": "4be6d244"
      },
      "outputs": [],
      "source": [
        "df['Id_pro'] = [idm_gen(i) for i in range(num_proveedor)]"
      ]
    },
    {
      "cell_type": "code",
      "execution_count": 7,
      "metadata": {
        "id": "hjvZ1r7ZNMg2"
      },
      "outputs": [],
      "source": [
        "# Tipo de Proveedor\n",
        "tipo_pro = [\"Electronics\",\n",
        "            \"Chemistry\",\n",
        "            \"na\"]"
      ]
    },
    {
      "cell_type": "code",
      "execution_count": 8,
      "metadata": {
        "id": "rwxmrcTjNMhB",
        "colab": {
          "base_uri": "https://localhost:8080/",
          "height": 53
        },
        "outputId": "0e999333-4966-4af5-c78f-d2a3fc3938c6"
      },
      "outputs": [
        {
          "output_type": "execute_result",
          "data": {
            "text/plain": [
              "'\\nCon la lista generada de las opciones de tipos de proveedor, se proporciona la\\nfunción de opciones pesos para cada función y la cantidad de opciones hacer representadas\\npor \"k\". Por consiguiente, se asignó al atributo de \"tipo_pro\" del marco de datos.\\n'"
            ],
            "application/vnd.google.colaboratory.intrinsic+json": {
              "type": "string"
            }
          },
          "metadata": {},
          "execution_count": 8
        }
      ],
      "source": [
        "df['tipo_pro'] = random.choices(\n",
        "    tipo_pro, \n",
        "    weights=(35,35,30), \n",
        "    k=num_proveedor\n",
        ")\n",
        "\"\"\"\n",
        "Con la lista generada de las opciones de tipos de proveedor, se proporciona la\n",
        "función de opciones pesos para cada función y la cantidad de opciones hacer representadas\n",
        "por \"k\". Por consiguiente, se asignó al atributo de \"tipo_pro\" del marco de datos.\n",
        "\"\"\""
      ]
    },
    {
      "cell_type": "code",
      "source": [
        "# Nombre del Proveedor\n",
        "# Creación de instancias de falsificador\n",
        "faker = Faker()\n",
        "\n",
        "def name_gen(guy):\n",
        "    \"\"\"\n",
        "    Genera rápidamente un nombre del proveedor\n",
        "    \"\"\"\n",
        "    faker.company()\n",
        "    \n",
        "    return faker.company()\n",
        "    \n",
        "# Generación de nombres para cada proveedor\n",
        "df['nombre_pro'] = ['Company '+name_gen(i) for i in df['nombre_pro']]"
      ],
      "metadata": {
        "id": "Zx1_q5uBWsVH"
      },
      "execution_count": 9,
      "outputs": []
    },
    {
      "cell_type": "code",
      "execution_count": 10,
      "metadata": {
        "id": "670b3855"
      },
      "outputs": [],
      "source": [
        "# Email del proveedor\n",
        "def emailGen(name, duplicateFound=False):\n",
        "    \"\"\"\n",
        "    Genera una dirección de correo electrónico aleatoria basada en el nombre dado. \n",
        "    Agrega un número al final si se encontró una dirección duplicada.\n",
        "    \"\"\"\n",
        "    # Nombre de dominio falso para usar\n",
        "    dom = \"@pymes.com\"\n",
        "    \n",
        "    # Mayúsculas y minúsculas\n",
        "    name = name.lower().split(\" \")\n",
        "    \n",
        "    # Carácter aleatorio para insertar en el nombre\n",
        "    chars = [\".\", \"_\"]\n",
        "    \n",
        "    new_name = name[0] + random.choice(chars) + name[1] \n",
        "    \n",
        "    # Distinguir aún más el correo electrónico si se encontró un duplicado\n",
        "    if duplicateFound:\n",
        "        \n",
        "        # Número aleatorio para insertar al final\n",
        "        num = random.randint(0,100)\n",
        "        \n",
        "        # Insertar al final\n",
        "        new_name = new_name + str(num)\n",
        "        \n",
        "    # Devolver la dirección de correo electrónico con el nombre de dominio adjunto\n",
        "    return new_name + dom"
      ]
    },
    {
      "cell_type": "code",
      "execution_count": 11,
      "metadata": {
        "id": "97cd6b45"
      },
      "outputs": [],
      "source": [
        "emails = []\n",
        "\n",
        "for name in df['nombre_pro']:\n",
        "    \n",
        "    # Generación del correo electrónico\n",
        "    email = emailGen(name)\n",
        "    \n",
        "    # Bucle hasta que se genere un correo electrónico único\n",
        "    while email in emails:\n",
        "        \n",
        "        # Crear un correo electrónico con un número aleatorio\n",
        "        email = emailGen(name, duplicateFound=True)\n",
        "    \n",
        "    # Adjuntar el nuevo correo electrónico a la lista\n",
        "    emails.append(email)\n",
        "    \n",
        "df['email_pro'] = emails"
      ]
    },
    {
      "cell_type": "code",
      "source": [
        "# Número de Teléfono del proveedor\n",
        "# import module\n",
        "import random as r\n",
        "from random import seed\n",
        "from datetime import datetime\n",
        "num=[]\n",
        "size = 10\n",
        "\n",
        "for i in range(0, num_proveedor):\n",
        "  random.seed(datetime.now())\n",
        "  valores = [0,1,2,3,4,5,6,7,8,9]\n",
        "  num=(''.join([str(random.choice(valores)) for i in range(size)]))\n",
        "  df.telefono_pro[i]=num"
      ],
      "metadata": {
        "id": "EdSxLao_ycrF"
      },
      "execution_count": 12,
      "outputs": []
    },
    {
      "cell_type": "code",
      "source": [
        "# Descripción del proveedor\n",
        "import string\n",
        "import random\n",
        "bio=[]\n",
        "length_of_string = 20\n",
        "for i in range(0, num_proveedor):\n",
        "  random.seed(datetime.now())\n",
        "  bio=(''.join(random.SystemRandom().choice(string.ascii_letters + string.digits) for i in range(length_of_string)))\n",
        "  df.descripcion_pro[i] =bio"
      ],
      "metadata": {
        "id": "Y8aLlisgylkT"
      },
      "execution_count": 13,
      "outputs": []
    },
    {
      "cell_type": "code",
      "source": [
        "# Estado del proveedor\n",
        "Status_pro = [\"Active\", \"Inactive\"]"
      ],
      "metadata": {
        "id": "t7aIgebyy4Jz"
      },
      "execution_count": 14,
      "outputs": []
    },
    {
      "cell_type": "code",
      "source": [
        "df['Status_pro']= random.choices(\n",
        "    Status_pro, \n",
        "    weights=(45,55), \n",
        "    k=num_proveedor\n",
        ")\n",
        "\"\"\"\n",
        "Con la lista generada de las opciones de estados, se proporciona la\n",
        "función de opciones pesos para cada función y la cantidad de opciones hacer representadas\n",
        "por \"k\". Por consiguiente, se asignó al atributo de \"Status_pro\" del marco de datos.\n",
        "\"\"\""
      ],
      "metadata": {
        "id": "0iXuXo16y8Lx",
        "colab": {
          "base_uri": "https://localhost:8080/",
          "height": 53
        },
        "outputId": "c8b1b42d-00f9-4bcd-d669-a8ba3feeb41b"
      },
      "execution_count": 17,
      "outputs": [
        {
          "output_type": "execute_result",
          "data": {
            "text/plain": [
              "'\\nCon la lista generada de las opciones de estados, se proporciona la\\nfunción de opciones pesos para cada función y la cantidad de opciones hacer representadas\\npor \"k\". Por consiguiente, se asignó al atributo de \"Status_pro\" del marco de datos.\\n'"
            ],
            "application/vnd.google.colaboratory.intrinsic+json": {
              "type": "string"
            }
          },
          "metadata": {},
          "execution_count": 17
        }
      ]
    },
    {
      "cell_type": "code",
      "execution_count": 18,
      "metadata": {
        "id": "b746f91d"
      },
      "outputs": [],
      "source": [
        "# Guardar el conjunto de datos\n",
        "df.to_csv('dataset_proveedor.csv')"
      ]
    },
    {
      "cell_type": "code",
      "source": [
        "# Mostrar el conjunto de datos\n",
        "pd.read_csv('dataset_proveedor.csv', index_col=0)"
      ],
      "metadata": {
        "colab": {
          "base_uri": "https://localhost:8080/",
          "height": 572
        },
        "id": "qpb0O0OjfRby",
        "outputId": "0e6800ac-9511-4157-dd3e-f5f4deb6af10"
      },
      "execution_count": 19,
      "outputs": [
        {
          "output_type": "execute_result",
          "data": {
            "text/plain": [
              "              Id_pro                              nombre_pro     tipo_pro  \\\n",
              "0        Proveedor-1                      Company Booker LLC    Chemistry   \n",
              "1        Proveedor-2                   Company Mccarthy-Reed    Chemistry   \n",
              "2        Proveedor-3                  Company Peterson Group  Electronics   \n",
              "3        Proveedor-4                       Company Davis Inc    Chemistry   \n",
              "4        Proveedor-5      Company Serrano, Allen and Carroll           na   \n",
              "...              ...                                     ...          ...   \n",
              "4995  Proveedor-4996                    Company Shaw-Russell           na   \n",
              "4996  Proveedor-4997                 Company Fitzpatrick PLC  Electronics   \n",
              "4997  Proveedor-4998  Company Robertson, Johnson and Alvarez           na   \n",
              "4998  Proveedor-4999                   Company King and Sons    Chemistry   \n",
              "4999  Proveedor-5000         Company Meyer, Miller and Moore  Electronics   \n",
              "\n",
              "                            email_pro  telefono_pro       descripcion_pro  \\\n",
              "0            company_booker@pymes.com    6345576187  HGcrYjrzjS7zkyS8lEzY   \n",
              "1     company.mccarthy-reed@pymes.com    9753065011  nmar0Fbh1EtGHENY77h8   \n",
              "2          company.peterson@pymes.com    8440713370  BqgwDLj5G84lM6U6G64q   \n",
              "3             company_davis@pymes.com    8345851382  26P61GmYmE5ARYNoVxMY   \n",
              "4          company.serrano,@pymes.com      25765530  g02bTT2zyx0XKXXuetTd   \n",
              "...                               ...           ...                   ...   \n",
              "4995   company.shaw-russell@pymes.com    9377195551  kftEP2ePZJWWxQsmDhPo   \n",
              "4996    company.fitzpatrick@pymes.com    7046779583  1lP4fk9vyhSbumVoWECD   \n",
              "4997     company.robertson,@pymes.com    1390336038  ze7PvkaPxniFTlpZYoZc   \n",
              "4998           company_king@pymes.com    8603494284  EDtxQFIXkagSdpVkaMHe   \n",
              "4999         company_meyer,@pymes.com    3181825598  AuUAOXpf1BV9dACxv7Yw   \n",
              "\n",
              "     Status_pro  \n",
              "0        Active  \n",
              "1      Inactive  \n",
              "2        Active  \n",
              "3        Active  \n",
              "4      Inactive  \n",
              "...         ...  \n",
              "4995     Active  \n",
              "4996     Active  \n",
              "4997   Inactive  \n",
              "4998   Inactive  \n",
              "4999     Active  \n",
              "\n",
              "[5000 rows x 7 columns]"
            ],
            "text/html": [
              "\n",
              "  <div id=\"df-1b620f18-cba7-45ca-88ba-fb4ba4cba191\">\n",
              "    <div class=\"colab-df-container\">\n",
              "      <div>\n",
              "<style scoped>\n",
              "    .dataframe tbody tr th:only-of-type {\n",
              "        vertical-align: middle;\n",
              "    }\n",
              "\n",
              "    .dataframe tbody tr th {\n",
              "        vertical-align: top;\n",
              "    }\n",
              "\n",
              "    .dataframe thead th {\n",
              "        text-align: right;\n",
              "    }\n",
              "</style>\n",
              "<table border=\"1\" class=\"dataframe\">\n",
              "  <thead>\n",
              "    <tr style=\"text-align: right;\">\n",
              "      <th></th>\n",
              "      <th>Id_pro</th>\n",
              "      <th>nombre_pro</th>\n",
              "      <th>tipo_pro</th>\n",
              "      <th>email_pro</th>\n",
              "      <th>telefono_pro</th>\n",
              "      <th>descripcion_pro</th>\n",
              "      <th>Status_pro</th>\n",
              "    </tr>\n",
              "  </thead>\n",
              "  <tbody>\n",
              "    <tr>\n",
              "      <th>0</th>\n",
              "      <td>Proveedor-1</td>\n",
              "      <td>Company Booker LLC</td>\n",
              "      <td>Chemistry</td>\n",
              "      <td>company_booker@pymes.com</td>\n",
              "      <td>6345576187</td>\n",
              "      <td>HGcrYjrzjS7zkyS8lEzY</td>\n",
              "      <td>Active</td>\n",
              "    </tr>\n",
              "    <tr>\n",
              "      <th>1</th>\n",
              "      <td>Proveedor-2</td>\n",
              "      <td>Company Mccarthy-Reed</td>\n",
              "      <td>Chemistry</td>\n",
              "      <td>company.mccarthy-reed@pymes.com</td>\n",
              "      <td>9753065011</td>\n",
              "      <td>nmar0Fbh1EtGHENY77h8</td>\n",
              "      <td>Inactive</td>\n",
              "    </tr>\n",
              "    <tr>\n",
              "      <th>2</th>\n",
              "      <td>Proveedor-3</td>\n",
              "      <td>Company Peterson Group</td>\n",
              "      <td>Electronics</td>\n",
              "      <td>company.peterson@pymes.com</td>\n",
              "      <td>8440713370</td>\n",
              "      <td>BqgwDLj5G84lM6U6G64q</td>\n",
              "      <td>Active</td>\n",
              "    </tr>\n",
              "    <tr>\n",
              "      <th>3</th>\n",
              "      <td>Proveedor-4</td>\n",
              "      <td>Company Davis Inc</td>\n",
              "      <td>Chemistry</td>\n",
              "      <td>company_davis@pymes.com</td>\n",
              "      <td>8345851382</td>\n",
              "      <td>26P61GmYmE5ARYNoVxMY</td>\n",
              "      <td>Active</td>\n",
              "    </tr>\n",
              "    <tr>\n",
              "      <th>4</th>\n",
              "      <td>Proveedor-5</td>\n",
              "      <td>Company Serrano, Allen and Carroll</td>\n",
              "      <td>na</td>\n",
              "      <td>company.serrano,@pymes.com</td>\n",
              "      <td>25765530</td>\n",
              "      <td>g02bTT2zyx0XKXXuetTd</td>\n",
              "      <td>Inactive</td>\n",
              "    </tr>\n",
              "    <tr>\n",
              "      <th>...</th>\n",
              "      <td>...</td>\n",
              "      <td>...</td>\n",
              "      <td>...</td>\n",
              "      <td>...</td>\n",
              "      <td>...</td>\n",
              "      <td>...</td>\n",
              "      <td>...</td>\n",
              "    </tr>\n",
              "    <tr>\n",
              "      <th>4995</th>\n",
              "      <td>Proveedor-4996</td>\n",
              "      <td>Company Shaw-Russell</td>\n",
              "      <td>na</td>\n",
              "      <td>company.shaw-russell@pymes.com</td>\n",
              "      <td>9377195551</td>\n",
              "      <td>kftEP2ePZJWWxQsmDhPo</td>\n",
              "      <td>Active</td>\n",
              "    </tr>\n",
              "    <tr>\n",
              "      <th>4996</th>\n",
              "      <td>Proveedor-4997</td>\n",
              "      <td>Company Fitzpatrick PLC</td>\n",
              "      <td>Electronics</td>\n",
              "      <td>company.fitzpatrick@pymes.com</td>\n",
              "      <td>7046779583</td>\n",
              "      <td>1lP4fk9vyhSbumVoWECD</td>\n",
              "      <td>Active</td>\n",
              "    </tr>\n",
              "    <tr>\n",
              "      <th>4997</th>\n",
              "      <td>Proveedor-4998</td>\n",
              "      <td>Company Robertson, Johnson and Alvarez</td>\n",
              "      <td>na</td>\n",
              "      <td>company.robertson,@pymes.com</td>\n",
              "      <td>1390336038</td>\n",
              "      <td>ze7PvkaPxniFTlpZYoZc</td>\n",
              "      <td>Inactive</td>\n",
              "    </tr>\n",
              "    <tr>\n",
              "      <th>4998</th>\n",
              "      <td>Proveedor-4999</td>\n",
              "      <td>Company King and Sons</td>\n",
              "      <td>Chemistry</td>\n",
              "      <td>company_king@pymes.com</td>\n",
              "      <td>8603494284</td>\n",
              "      <td>EDtxQFIXkagSdpVkaMHe</td>\n",
              "      <td>Inactive</td>\n",
              "    </tr>\n",
              "    <tr>\n",
              "      <th>4999</th>\n",
              "      <td>Proveedor-5000</td>\n",
              "      <td>Company Meyer, Miller and Moore</td>\n",
              "      <td>Electronics</td>\n",
              "      <td>company_meyer,@pymes.com</td>\n",
              "      <td>3181825598</td>\n",
              "      <td>AuUAOXpf1BV9dACxv7Yw</td>\n",
              "      <td>Active</td>\n",
              "    </tr>\n",
              "  </tbody>\n",
              "</table>\n",
              "<p>5000 rows × 7 columns</p>\n",
              "</div>\n",
              "      <button class=\"colab-df-convert\" onclick=\"convertToInteractive('df-1b620f18-cba7-45ca-88ba-fb4ba4cba191')\"\n",
              "              title=\"Convert this dataframe to an interactive table.\"\n",
              "              style=\"display:none;\">\n",
              "        \n",
              "  <svg xmlns=\"http://www.w3.org/2000/svg\" height=\"24px\"viewBox=\"0 0 24 24\"\n",
              "       width=\"24px\">\n",
              "    <path d=\"M0 0h24v24H0V0z\" fill=\"none\"/>\n",
              "    <path d=\"M18.56 5.44l.94 2.06.94-2.06 2.06-.94-2.06-.94-.94-2.06-.94 2.06-2.06.94zm-11 1L8.5 8.5l.94-2.06 2.06-.94-2.06-.94L8.5 2.5l-.94 2.06-2.06.94zm10 10l.94 2.06.94-2.06 2.06-.94-2.06-.94-.94-2.06-.94 2.06-2.06.94z\"/><path d=\"M17.41 7.96l-1.37-1.37c-.4-.4-.92-.59-1.43-.59-.52 0-1.04.2-1.43.59L10.3 9.45l-7.72 7.72c-.78.78-.78 2.05 0 2.83L4 21.41c.39.39.9.59 1.41.59.51 0 1.02-.2 1.41-.59l7.78-7.78 2.81-2.81c.8-.78.8-2.07 0-2.86zM5.41 20L4 18.59l7.72-7.72 1.47 1.35L5.41 20z\"/>\n",
              "  </svg>\n",
              "      </button>\n",
              "      \n",
              "  <style>\n",
              "    .colab-df-container {\n",
              "      display:flex;\n",
              "      flex-wrap:wrap;\n",
              "      gap: 12px;\n",
              "    }\n",
              "\n",
              "    .colab-df-convert {\n",
              "      background-color: #E8F0FE;\n",
              "      border: none;\n",
              "      border-radius: 50%;\n",
              "      cursor: pointer;\n",
              "      display: none;\n",
              "      fill: #1967D2;\n",
              "      height: 32px;\n",
              "      padding: 0 0 0 0;\n",
              "      width: 32px;\n",
              "    }\n",
              "\n",
              "    .colab-df-convert:hover {\n",
              "      background-color: #E2EBFA;\n",
              "      box-shadow: 0px 1px 2px rgba(60, 64, 67, 0.3), 0px 1px 3px 1px rgba(60, 64, 67, 0.15);\n",
              "      fill: #174EA6;\n",
              "    }\n",
              "\n",
              "    [theme=dark] .colab-df-convert {\n",
              "      background-color: #3B4455;\n",
              "      fill: #D2E3FC;\n",
              "    }\n",
              "\n",
              "    [theme=dark] .colab-df-convert:hover {\n",
              "      background-color: #434B5C;\n",
              "      box-shadow: 0px 1px 3px 1px rgba(0, 0, 0, 0.15);\n",
              "      filter: drop-shadow(0px 1px 2px rgba(0, 0, 0, 0.3));\n",
              "      fill: #FFFFFF;\n",
              "    }\n",
              "  </style>\n",
              "\n",
              "      <script>\n",
              "        const buttonEl =\n",
              "          document.querySelector('#df-1b620f18-cba7-45ca-88ba-fb4ba4cba191 button.colab-df-convert');\n",
              "        buttonEl.style.display =\n",
              "          google.colab.kernel.accessAllowed ? 'block' : 'none';\n",
              "\n",
              "        async function convertToInteractive(key) {\n",
              "          const element = document.querySelector('#df-1b620f18-cba7-45ca-88ba-fb4ba4cba191');\n",
              "          const dataTable =\n",
              "            await google.colab.kernel.invokeFunction('convertToInteractive',\n",
              "                                                     [key], {});\n",
              "          if (!dataTable) return;\n",
              "\n",
              "          const docLinkHtml = 'Like what you see? Visit the ' +\n",
              "            '<a target=\"_blank\" href=https://colab.research.google.com/notebooks/data_table.ipynb>data table notebook</a>'\n",
              "            + ' to learn more about interactive tables.';\n",
              "          element.innerHTML = '';\n",
              "          dataTable['output_type'] = 'display_data';\n",
              "          await google.colab.output.renderOutput(dataTable, element);\n",
              "          const docLink = document.createElement('div');\n",
              "          docLink.innerHTML = docLinkHtml;\n",
              "          element.appendChild(docLink);\n",
              "        }\n",
              "      </script>\n",
              "    </div>\n",
              "  </div>\n",
              "  "
            ]
          },
          "metadata": {},
          "execution_count": 19
        }
      ]
    }
  ]
}
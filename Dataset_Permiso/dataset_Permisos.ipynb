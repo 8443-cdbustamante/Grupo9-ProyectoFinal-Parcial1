{
  "nbformat": 4,
  "nbformat_minor": 0,
  "metadata": {
    "colab": {
      "provenance": []
    },
    "kernelspec": {
      "name": "python3",
      "display_name": "Python 3"
    },
    "language_info": {
      "name": "python"
    }
  },
  "cells": [
    {
      "cell_type": "code",
      "source": [
        "# Uso del Pip install para poder importar la librería faker\n",
        "!pip install faker"
      ],
      "metadata": {
        "colab": {
          "base_uri": "https://localhost:8080/"
        },
        "id": "wswK4uWr6CdF",
        "outputId": "477ff5d1-455e-4d46-bb27-a92212f6e7b2"
      },
      "execution_count": 4,
      "outputs": [
        {
          "output_type": "stream",
          "name": "stdout",
          "text": [
            "Looking in indexes: https://pypi.org/simple, https://us-python.pkg.dev/colab-wheels/public/simple/\n",
            "Requirement already satisfied: faker in /usr/local/lib/python3.8/dist-packages (15.3.4)\n",
            "Requirement already satisfied: python-dateutil>=2.4 in /usr/local/lib/python3.8/dist-packages (from faker) (2.8.2)\n",
            "Requirement already satisfied: six>=1.5 in /usr/local/lib/python3.8/dist-packages (from python-dateutil>=2.4->faker) (1.15.0)\n"
          ]
        }
      ]
    },
    {
      "cell_type": "code",
      "execution_count": 5,
      "metadata": {
        "id": "y29B-88s5zjL"
      },
      "outputs": [],
      "source": [
        "# Importar librería pandas para manejar y analizar datos\n",
        "import pandas as pd\n",
        "# Importar librería uuid para crear identificadores únicos.\n",
        "import uuid\n",
        "# Importar librería random para generar datos aleatorios.\n",
        "import random\n",
        "# Importar el paquete faker para generar datos fasos.\n",
        "from faker import Faker\n",
        "# Importar la librería datetime para manejar fechas.\n",
        "import datetime\n",
        "from datetime import date"
      ]
    },
    {
      "cell_type": "code",
      "source": [
        "# Delimitación del rango del número de elementos.\n",
        "num_usuario = 5000"
      ],
      "metadata": {
        "id": "4peUsvex6Q_J"
      },
      "execution_count": 6,
      "outputs": []
    },
    {
      "cell_type": "code",
      "source": [
        "#Instanciación faker\n",
        "faker = Faker()"
      ],
      "metadata": {
        "id": "QWHk2-Ah6TIg"
      },
      "execution_count": 7,
      "outputs": []
    },
    {
      "cell_type": "code",
      "source": [
        "# Una lista de 6 características para la entidad permiso\n",
        "atributos = [\n",
        "    \"Id_perm\",\n",
        "    \"entidad_perm\",\n",
        "    \"tipo_perm\",\n",
        "    \"fecha_asigna_perm\",\n",
        "    \"fecha_caduca_perm\", \n",
        "    \"Status_perm\" \n",
        "]"
      ],
      "metadata": {
        "id": "Srm3eAAHDm5Z"
      },
      "execution_count": 8,
      "outputs": []
    },
    {
      "cell_type": "code",
      "source": [
        "# arreglo con valores para atributo entidad\n",
        "entidad =[\n",
        "    \"Permisos\",\n",
        "    \"Roles\",\n",
        "    \"Personal\",\n",
        "    \"Departamento\",\n",
        "    \"Misil\",\n",
        "    \"Componente\",\n",
        "    \"Pieza\",\n",
        "    \"Proveedor\",\n",
        "    \"Parametro\"\n",
        "]\n"
      ],
      "metadata": {
        "id": "-sApnZT9D9O0"
      },
      "execution_count": 9,
      "outputs": []
    },
    {
      "cell_type": "code",
      "source": [
        "# arreglo con valores para atributo tipo\n",
        "tipo = [\n",
        "    \"Lectura\",\n",
        "    \"Escritura\"\n",
        "]"
      ],
      "metadata": {
        "id": "tOa1U1VtD6iv"
      },
      "execution_count": 10,
      "outputs": []
    },
    {
      "cell_type": "code",
      "source": [
        "# arreglo con valores para atributo estado\n",
        "status = [\n",
        "    \"Vigente\",\n",
        "    \"Caducado\"\n",
        "]"
      ],
      "metadata": {
        "id": "I1i5tCjsD5PZ"
      },
      "execution_count": 11,
      "outputs": []
    },
    {
      "cell_type": "code",
      "source": [
        "# Creación de un DF para las 6 características de la entidad permiso\n",
        "df = pd.DataFrame(columns = atributos)"
      ],
      "metadata": {
        "id": "ihfBbSg2D36U"
      },
      "execution_count": 12,
      "outputs": []
    },
    {
      "cell_type": "code",
      "source": [
        "# Generar un identificador por cada permiso\n",
        "def idp_gen(n):\n",
        "    \"\"\"\n",
        "    Función para crear la id única\n",
        "    ...\n",
        "    Parametro\n",
        "    n : int\n",
        "        corresponde al numero indicador del registro correspondiente \n",
        "    \n",
        "    Return\n",
        "    ------\n",
        "    \"PERM-\"+str(n+1) : str\n",
        "        se crea las identificaciones únicas para los permisos\n",
        "    \"\"\"\n",
        "    return \"PERM-\"+str(n+1)"
      ],
      "metadata": {
        "id": "xIwJx3IAD1zT"
      },
      "execution_count": 14,
      "outputs": []
    },
    {
      "cell_type": "code",
      "source": [
        "df['Id_perm'] = [idp_gen(i) for i in range(num_usuario)]"
      ],
      "metadata": {
        "id": "CIEfmQ1AEB21"
      },
      "execution_count": 15,
      "outputs": []
    },
    {
      "cell_type": "code",
      "source": [
        "# Determinar la entidad a la que pertenece cada permiso\n",
        "def entidad_gen():\n",
        "    \"\"\"\n",
        "    Función para asignar una entidad para el permiso\n",
        "    ...\n",
        "    \n",
        "    Return\n",
        "    ------\n",
        "    random.choice(entidad) : str\n",
        "        generación de la entidad para su asignación en el registro\n",
        "    \"\"\"\n",
        "    return random.choice(entidad)"
      ],
      "metadata": {
        "id": "9kdtpQ_hDz75"
      },
      "execution_count": 16,
      "outputs": []
    },
    {
      "cell_type": "code",
      "source": [
        "df['entidad_perm'] = [entidad_gen() for i in range(num_usuario)]"
      ],
      "metadata": {
        "id": "Qym7vySBEERd"
      },
      "execution_count": 17,
      "outputs": []
    },
    {
      "cell_type": "code",
      "source": [
        "# Determinar el tipo de permiso \n",
        "def tipo_gen():\n",
        "    \"\"\"\n",
        "    Función para asignar el tipo de permiso\n",
        "    ...\n",
        "    \n",
        "    Return\n",
        "    ------\n",
        "    random.choice(tipo) : str\n",
        "        generación del tipo de permiso aleatorio\n",
        "    \"\"\"\n",
        "    return random.choice(tipo)"
      ],
      "metadata": {
        "id": "ihXIUCGTDydB"
      },
      "execution_count": 18,
      "outputs": []
    },
    {
      "cell_type": "code",
      "source": [
        "df['tipo_perm'] = [tipo_gen() for i in range(num_usuario)]"
      ],
      "metadata": {
        "id": "tYpaJfZAEGQB"
      },
      "execution_count": 19,
      "outputs": []
    },
    {
      "cell_type": "code",
      "source": [
        "# Generar una fecha de asignación de permiso a cada registro\n",
        "def fechAsig_gen():\n",
        "    \"\"\"\n",
        "    Función para crear fecha de asignación del permiso\n",
        "    ...\n",
        "    \n",
        "    Return\n",
        "    ------\n",
        "    faker.date_between('-10y') : obj datetime.date\n",
        "        generación de una fecha entre 10 años antes hasta la fecha actual\n",
        "    \"\"\"\n",
        "    return faker.date_between('-10y')"
      ],
      "metadata": {
        "id": "DVYKzM39Dvcu"
      },
      "execution_count": 20,
      "outputs": []
    },
    {
      "cell_type": "code",
      "source": [
        "df['fecha_asigna_perm'] = [fechAsig_gen() for i in range(num_usuario)]"
      ],
      "metadata": {
        "id": "A8X164m2ENuk"
      },
      "execution_count": 21,
      "outputs": []
    },
    {
      "cell_type": "code",
      "source": [
        "# Determinar una fecha de caducidad de permiso de cada registro\n",
        "def fechCad_gen(fecha):\n",
        "    \"\"\"\n",
        "    Función para crear fecha de caducidad\n",
        "    ...\n",
        "    \n",
        "    Parametro\n",
        "    ---------\n",
        "    fecha : obj Datetime.date\n",
        "        variable que corresponde a la fecha de asignación del permiso\n",
        "    \n",
        "    Return\n",
        "    ------\n",
        "    caduca: str\n",
        "        generación de una fecha con rango de 10 años antes y despues dela fecha actual\n",
        "    \"\"\"\n",
        "    #asignación de objeto con fecha con rango de 10 años antes y despues de fecha actual\n",
        "    caduca = faker.date_this_decade(True, True)\n",
        "    #bucle para asegurar que la fecha inicio sea menor a la fecha caduca\n",
        "    while (caduca <= fecha):\n",
        "        caduca = faker.date_this_decade(True, True) #genera nueva fecha que cumpla con condicional\n",
        "    return caduca"
      ],
      "metadata": {
        "id": "PN_Y7sEGDsPY"
      },
      "execution_count": 22,
      "outputs": []
    },
    {
      "cell_type": "code",
      "source": [
        "df['fecha_caduca_perm'] = [fechCad_gen(i) for i in df[\"fecha_asigna_perm\"]]"
      ],
      "metadata": {
        "id": "8qYpc6V_EQV7"
      },
      "execution_count": 23,
      "outputs": []
    },
    {
      "cell_type": "code",
      "source": [
        "# Determinar el estado en que se encuentra cada permiso\n",
        "def status_gen(fecha):\n",
        "    \"\"\"\n",
        "    Función para la generación de estado del permiso\n",
        "    ...\n",
        "    \n",
        "    Parametros\n",
        "    ----------\n",
        "    fecha : obj datetime.date\n",
        "        fecha correspondiente a la caducidad\n",
        "    \n",
        "    Return\n",
        "    ------\n",
        "    status[0] :  str\n",
        "        envía la cadena correspondiente al indice 0 del arreglo status\n",
        "        \n",
        "    status[1] : str\n",
        "        envia la cadena que está en el indice 1 del arreglo status\n",
        "    \"\"\"\n",
        "    #formato de fecha\n",
        "    frmt = \"%Y-%m-%d\"\n",
        "    #Asignación de fecha actual en tipo objeto date\n",
        "    now = date.today()\n",
        "    #Fecha actual conseguida\n",
        "    stime = datetime.datetime.strptime(str(fecha), frmt)\n",
        "    #Fecha actual\n",
        "    now1 = datetime.datetime.strptime(str(now), frmt)\n",
        "    #indicador entero basado en el calculo de edad\n",
        "    ind = int((stime-now1).days/365.25)\n",
        "    #asignación de estado de acuerdo al indicador\n",
        "    if (ind>0):\n",
        "        return status[0]\n",
        "    else:\n",
        "        return status[1]"
      ],
      "metadata": {
        "id": "hFtgiXvyDprM"
      },
      "execution_count": 24,
      "outputs": []
    },
    {
      "cell_type": "code",
      "source": [
        "df['Status_perm'] = [status_gen(i) for i in df[\"fecha_caduca_perm\"]]"
      ],
      "metadata": {
        "id": "4-a7x_otES1V"
      },
      "execution_count": 25,
      "outputs": []
    },
    {
      "cell_type": "code",
      "source": [
        "# Guardar el conjunto de datos\n",
        "df.to_csv('dataset_Permisos.csv')"
      ],
      "metadata": {
        "id": "-LJL9_F1Ee4q"
      },
      "execution_count": 26,
      "outputs": []
    },
    {
      "cell_type": "code",
      "source": [
        "# Mostrar el conjunto de datos\n",
        "pd.read_csv('dataset_Permisos.csv', index_col=0)"
      ],
      "metadata": {
        "colab": {
          "base_uri": "https://localhost:8080/",
          "height": 424
        },
        "id": "LwftL9HNEjQz",
        "outputId": "f324bea8-3220-4a5d-e0fa-6e4c19966e82"
      },
      "execution_count": 27,
      "outputs": [
        {
          "output_type": "execute_result",
          "data": {
            "text/plain": [
              "        Id_perm entidad_perm  tipo_perm fecha_asigna_perm fecha_caduca_perm  \\\n",
              "0        PERM-1     Personal    Lectura        2022-02-14        2027-07-18   \n",
              "1        PERM-2    Proveedor  Escritura        2016-07-24        2020-12-21   \n",
              "2        PERM-3     Personal  Escritura        2018-03-22        2023-09-18   \n",
              "3        PERM-4   Componente    Lectura        2018-09-21        2022-10-03   \n",
              "4        PERM-5     Permisos    Lectura        2022-07-06        2025-02-06   \n",
              "...         ...          ...        ...               ...               ...   \n",
              "4995  PERM-4996        Pieza    Lectura        2016-02-10        2024-04-20   \n",
              "4996  PERM-4997   Componente    Lectura        2019-12-17        2027-09-07   \n",
              "4997  PERM-4998    Parametro  Escritura        2014-02-10        2027-05-22   \n",
              "4998  PERM-4999        Misil    Lectura        2019-11-03        2026-12-19   \n",
              "4999  PERM-5000     Personal    Lectura        2014-10-03        2020-11-03   \n",
              "\n",
              "     Status_perm  \n",
              "0        Vigente  \n",
              "1       Caducado  \n",
              "2       Caducado  \n",
              "3       Caducado  \n",
              "4        Vigente  \n",
              "...          ...  \n",
              "4995     Vigente  \n",
              "4996     Vigente  \n",
              "4997     Vigente  \n",
              "4998     Vigente  \n",
              "4999    Caducado  \n",
              "\n",
              "[5000 rows x 6 columns]"
            ],
            "text/html": [
              "\n",
              "  <div id=\"df-8e6f9169-7010-4b83-be06-667966a033b8\">\n",
              "    <div class=\"colab-df-container\">\n",
              "      <div>\n",
              "<style scoped>\n",
              "    .dataframe tbody tr th:only-of-type {\n",
              "        vertical-align: middle;\n",
              "    }\n",
              "\n",
              "    .dataframe tbody tr th {\n",
              "        vertical-align: top;\n",
              "    }\n",
              "\n",
              "    .dataframe thead th {\n",
              "        text-align: right;\n",
              "    }\n",
              "</style>\n",
              "<table border=\"1\" class=\"dataframe\">\n",
              "  <thead>\n",
              "    <tr style=\"text-align: right;\">\n",
              "      <th></th>\n",
              "      <th>Id_perm</th>\n",
              "      <th>entidad_perm</th>\n",
              "      <th>tipo_perm</th>\n",
              "      <th>fecha_asigna_perm</th>\n",
              "      <th>fecha_caduca_perm</th>\n",
              "      <th>Status_perm</th>\n",
              "    </tr>\n",
              "  </thead>\n",
              "  <tbody>\n",
              "    <tr>\n",
              "      <th>0</th>\n",
              "      <td>PERM-1</td>\n",
              "      <td>Personal</td>\n",
              "      <td>Lectura</td>\n",
              "      <td>2022-02-14</td>\n",
              "      <td>2027-07-18</td>\n",
              "      <td>Vigente</td>\n",
              "    </tr>\n",
              "    <tr>\n",
              "      <th>1</th>\n",
              "      <td>PERM-2</td>\n",
              "      <td>Proveedor</td>\n",
              "      <td>Escritura</td>\n",
              "      <td>2016-07-24</td>\n",
              "      <td>2020-12-21</td>\n",
              "      <td>Caducado</td>\n",
              "    </tr>\n",
              "    <tr>\n",
              "      <th>2</th>\n",
              "      <td>PERM-3</td>\n",
              "      <td>Personal</td>\n",
              "      <td>Escritura</td>\n",
              "      <td>2018-03-22</td>\n",
              "      <td>2023-09-18</td>\n",
              "      <td>Caducado</td>\n",
              "    </tr>\n",
              "    <tr>\n",
              "      <th>3</th>\n",
              "      <td>PERM-4</td>\n",
              "      <td>Componente</td>\n",
              "      <td>Lectura</td>\n",
              "      <td>2018-09-21</td>\n",
              "      <td>2022-10-03</td>\n",
              "      <td>Caducado</td>\n",
              "    </tr>\n",
              "    <tr>\n",
              "      <th>4</th>\n",
              "      <td>PERM-5</td>\n",
              "      <td>Permisos</td>\n",
              "      <td>Lectura</td>\n",
              "      <td>2022-07-06</td>\n",
              "      <td>2025-02-06</td>\n",
              "      <td>Vigente</td>\n",
              "    </tr>\n",
              "    <tr>\n",
              "      <th>...</th>\n",
              "      <td>...</td>\n",
              "      <td>...</td>\n",
              "      <td>...</td>\n",
              "      <td>...</td>\n",
              "      <td>...</td>\n",
              "      <td>...</td>\n",
              "    </tr>\n",
              "    <tr>\n",
              "      <th>4995</th>\n",
              "      <td>PERM-4996</td>\n",
              "      <td>Pieza</td>\n",
              "      <td>Lectura</td>\n",
              "      <td>2016-02-10</td>\n",
              "      <td>2024-04-20</td>\n",
              "      <td>Vigente</td>\n",
              "    </tr>\n",
              "    <tr>\n",
              "      <th>4996</th>\n",
              "      <td>PERM-4997</td>\n",
              "      <td>Componente</td>\n",
              "      <td>Lectura</td>\n",
              "      <td>2019-12-17</td>\n",
              "      <td>2027-09-07</td>\n",
              "      <td>Vigente</td>\n",
              "    </tr>\n",
              "    <tr>\n",
              "      <th>4997</th>\n",
              "      <td>PERM-4998</td>\n",
              "      <td>Parametro</td>\n",
              "      <td>Escritura</td>\n",
              "      <td>2014-02-10</td>\n",
              "      <td>2027-05-22</td>\n",
              "      <td>Vigente</td>\n",
              "    </tr>\n",
              "    <tr>\n",
              "      <th>4998</th>\n",
              "      <td>PERM-4999</td>\n",
              "      <td>Misil</td>\n",
              "      <td>Lectura</td>\n",
              "      <td>2019-11-03</td>\n",
              "      <td>2026-12-19</td>\n",
              "      <td>Vigente</td>\n",
              "    </tr>\n",
              "    <tr>\n",
              "      <th>4999</th>\n",
              "      <td>PERM-5000</td>\n",
              "      <td>Personal</td>\n",
              "      <td>Lectura</td>\n",
              "      <td>2014-10-03</td>\n",
              "      <td>2020-11-03</td>\n",
              "      <td>Caducado</td>\n",
              "    </tr>\n",
              "  </tbody>\n",
              "</table>\n",
              "<p>5000 rows × 6 columns</p>\n",
              "</div>\n",
              "      <button class=\"colab-df-convert\" onclick=\"convertToInteractive('df-8e6f9169-7010-4b83-be06-667966a033b8')\"\n",
              "              title=\"Convert this dataframe to an interactive table.\"\n",
              "              style=\"display:none;\">\n",
              "        \n",
              "  <svg xmlns=\"http://www.w3.org/2000/svg\" height=\"24px\"viewBox=\"0 0 24 24\"\n",
              "       width=\"24px\">\n",
              "    <path d=\"M0 0h24v24H0V0z\" fill=\"none\"/>\n",
              "    <path d=\"M18.56 5.44l.94 2.06.94-2.06 2.06-.94-2.06-.94-.94-2.06-.94 2.06-2.06.94zm-11 1L8.5 8.5l.94-2.06 2.06-.94-2.06-.94L8.5 2.5l-.94 2.06-2.06.94zm10 10l.94 2.06.94-2.06 2.06-.94-2.06-.94-.94-2.06-.94 2.06-2.06.94z\"/><path d=\"M17.41 7.96l-1.37-1.37c-.4-.4-.92-.59-1.43-.59-.52 0-1.04.2-1.43.59L10.3 9.45l-7.72 7.72c-.78.78-.78 2.05 0 2.83L4 21.41c.39.39.9.59 1.41.59.51 0 1.02-.2 1.41-.59l7.78-7.78 2.81-2.81c.8-.78.8-2.07 0-2.86zM5.41 20L4 18.59l7.72-7.72 1.47 1.35L5.41 20z\"/>\n",
              "  </svg>\n",
              "      </button>\n",
              "      \n",
              "  <style>\n",
              "    .colab-df-container {\n",
              "      display:flex;\n",
              "      flex-wrap:wrap;\n",
              "      gap: 12px;\n",
              "    }\n",
              "\n",
              "    .colab-df-convert {\n",
              "      background-color: #E8F0FE;\n",
              "      border: none;\n",
              "      border-radius: 50%;\n",
              "      cursor: pointer;\n",
              "      display: none;\n",
              "      fill: #1967D2;\n",
              "      height: 32px;\n",
              "      padding: 0 0 0 0;\n",
              "      width: 32px;\n",
              "    }\n",
              "\n",
              "    .colab-df-convert:hover {\n",
              "      background-color: #E2EBFA;\n",
              "      box-shadow: 0px 1px 2px rgba(60, 64, 67, 0.3), 0px 1px 3px 1px rgba(60, 64, 67, 0.15);\n",
              "      fill: #174EA6;\n",
              "    }\n",
              "\n",
              "    [theme=dark] .colab-df-convert {\n",
              "      background-color: #3B4455;\n",
              "      fill: #D2E3FC;\n",
              "    }\n",
              "\n",
              "    [theme=dark] .colab-df-convert:hover {\n",
              "      background-color: #434B5C;\n",
              "      box-shadow: 0px 1px 3px 1px rgba(0, 0, 0, 0.15);\n",
              "      filter: drop-shadow(0px 1px 2px rgba(0, 0, 0, 0.3));\n",
              "      fill: #FFFFFF;\n",
              "    }\n",
              "  </style>\n",
              "\n",
              "      <script>\n",
              "        const buttonEl =\n",
              "          document.querySelector('#df-8e6f9169-7010-4b83-be06-667966a033b8 button.colab-df-convert');\n",
              "        buttonEl.style.display =\n",
              "          google.colab.kernel.accessAllowed ? 'block' : 'none';\n",
              "\n",
              "        async function convertToInteractive(key) {\n",
              "          const element = document.querySelector('#df-8e6f9169-7010-4b83-be06-667966a033b8');\n",
              "          const dataTable =\n",
              "            await google.colab.kernel.invokeFunction('convertToInteractive',\n",
              "                                                     [key], {});\n",
              "          if (!dataTable) return;\n",
              "\n",
              "          const docLinkHtml = 'Like what you see? Visit the ' +\n",
              "            '<a target=\"_blank\" href=https://colab.research.google.com/notebooks/data_table.ipynb>data table notebook</a>'\n",
              "            + ' to learn more about interactive tables.';\n",
              "          element.innerHTML = '';\n",
              "          dataTable['output_type'] = 'display_data';\n",
              "          await google.colab.output.renderOutput(dataTable, element);\n",
              "          const docLink = document.createElement('div');\n",
              "          docLink.innerHTML = docLinkHtml;\n",
              "          element.appendChild(docLink);\n",
              "        }\n",
              "      </script>\n",
              "    </div>\n",
              "  </div>\n",
              "  "
            ]
          },
          "metadata": {},
          "execution_count": 27
        }
      ]
    }
  ]
}
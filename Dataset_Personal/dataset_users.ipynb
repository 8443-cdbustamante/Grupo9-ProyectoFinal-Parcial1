{
  "nbformat": 4,
  "nbformat_minor": 0,
  "metadata": {
    "colab": {
      "provenance": []
    },
    "kernelspec": {
      "name": "python3",
      "display_name": "Python 3"
    },
    "language_info": {
      "name": "python"
    }
  },
  "cells": [
    {
      "cell_type": "markdown",
      "metadata": {
        "id": "c6482288"
      },
      "source": [
        "# Conjunto de datos para la entidad \"Personal\"\n",
        "\n",
        "\n"
      ]
    },
    {
      "cell_type": "code",
      "source": [
        "# Uso del Pip install para poder importar la librería faker\n",
        "!pip install faker"
      ],
      "metadata": {
        "colab": {
          "base_uri": "https://localhost:8080/"
        },
        "id": "5Pmntp36v7hn",
        "outputId": "57c4e837-d8af-479e-f3a0-9240e076b538"
      },
      "execution_count": 1,
      "outputs": [
        {
          "output_type": "stream",
          "name": "stdout",
          "text": [
            "Looking in indexes: https://pypi.org/simple, https://us-python.pkg.dev/colab-wheels/public/simple/\n",
            "Collecting faker\n",
            "  Downloading Faker-15.3.4-py3-none-any.whl (1.6 MB)\n",
            "\u001b[K     |████████████████████████████████| 1.6 MB 4.0 MB/s \n",
            "\u001b[?25hRequirement already satisfied: python-dateutil>=2.4 in /usr/local/lib/python3.8/dist-packages (from faker) (2.8.2)\n",
            "Requirement already satisfied: six>=1.5 in /usr/local/lib/python3.8/dist-packages (from python-dateutil>=2.4->faker) (1.15.0)\n",
            "Installing collected packages: faker\n",
            "Successfully installed faker-15.3.4\n"
          ]
        }
      ]
    },
    {
      "cell_type": "code",
      "execution_count": 2,
      "metadata": {
        "id": "97b3d6da"
      },
      "outputs": [],
      "source": [
        "# Importar librería pandas para manejar y analizar datos\n",
        "import pandas as pd\n",
        "# Importar librería uuid para crear identificadores únicos.\n",
        "import uuid\n",
        "# Importar librería random para generar datos aleatorios.\n",
        "import random\n",
        "# Importar el paquete faker para generar datos fasos.\n",
        "from faker import Faker\n",
        "# Importar la librería datetime para manejar fechas.\n",
        "import datetime\n",
        "from datetime import date"
      ]
    },
    {
      "cell_type": "code",
      "execution_count": 3,
      "metadata": {
        "id": "29f6b5ac"
      },
      "outputs": [],
      "source": [
        "# Delimitación del rango del número de elementos.\n",
        "num_users = 5000"
      ]
    },
    {
      "cell_type": "code",
      "execution_count": 4,
      "metadata": {
        "id": "5a145d81"
      },
      "outputs": [],
      "source": [
        "# Una lista de 7 características de la entidad personal\n",
        "features = [\n",
        "    \"Id_per\",\n",
        "    \"genero_per\",\n",
        "    \"nombre_per\",\n",
        "    \"email_per\",\n",
        "    \"fecha_nac_per\",\n",
        "    \"profesion_per\",\n",
        "    \"Id_depar\"\n",
        "]\n",
        "# Creación de un DF para estas características\n",
        "df = pd.DataFrame(columns=features)"
      ]
    },
    {
      "cell_type": "code",
      "execution_count": 5,
      "metadata": {
        "id": "9417eb1d"
      },
      "outputs": [],
      "source": [
        "# Generar un identificador para cada  miembro del personal\n",
        "def idm_gen(n):\n",
        "    \"\"\"\n",
        "    Función que se encarga de crear un id unico con nomenclatura básica\n",
        "    ...\n",
        "    \n",
        "    Parametros\n",
        "    ----------\n",
        "    n : int\n",
        "        representa el numero de indice correspondiente al registro\n",
        "    \n",
        "    Return\n",
        "    ------\n",
        "    \"MSL--\"+str(n+1) : str\n",
        "        nomenclatura única de identificación del personal correspondiente\n",
        "    \"\"\"\n",
        "    return \"PRS-\"+str(n+1)"
      ]
    },
    {
      "cell_type": "code",
      "execution_count": 6,
      "metadata": {
        "id": "4be6d244"
      },
      "outputs": [],
      "source": [
        "df['Id_per'] = [idm_gen(i) for i in range(num_users)]"
      ]
    },
    {
      "cell_type": "code",
      "execution_count": 7,
      "metadata": {
        "id": "53792c85"
      },
      "outputs": [],
      "source": [
        "# Género del personal\n",
        "genders = [\"male\", \"female\"]"
      ]
    },
    {
      "cell_type": "code",
      "execution_count": 9,
      "metadata": {
        "id": "bc4eb9a8",
        "colab": {
          "base_uri": "https://localhost:8080/",
          "height": 53
        },
        "outputId": "608c1f63-7741-4f09-9243-b2e921be821c"
      },
      "outputs": [
        {
          "output_type": "execute_result",
          "data": {
            "text/plain": [
              "'\\nCon la lista generada de las opciones de género, se proporciona la función de opciones\\npesos para cada función y la cantidad de opciones hacer representadas por \"k\".\\nPor consiguiente, se asignó al atributo de \"genero_per\" del marco de datos.\\n'"
            ],
            "application/vnd.google.colaboratory.intrinsic+json": {
              "type": "string"
            }
          },
          "metadata": {},
          "execution_count": 9
        }
      ],
      "source": [
        "df['genero_per'] = random.choices(\n",
        "    genders, \n",
        "    weights=(45,55), \n",
        "    k=num_users\n",
        ")\n",
        "\"\"\"\n",
        "Con la lista generada de las opciones de género, se proporciona la función de opciones\n",
        "pesos para cada función y la cantidad de opciones hacer representadas por \"k\".\n",
        "Por consiguiente, se asignó al atributo de \"genero_per\" del marco de datos.\n",
        "\"\"\""
      ]
    },
    {
      "cell_type": "code",
      "execution_count": 10,
      "metadata": {
        "id": "b3fd6f7f"
      },
      "outputs": [],
      "source": [
        "# Nombre del personal\n",
        "# Creación de instancias de falsificador\n",
        "faker = Faker()\n",
        "\n",
        "def name_gen(gender):\n",
        "    \"\"\"\n",
        "    Genera rápidamente un nombre basado en el género\n",
        "    \"\"\"\n",
        "    if gender=='male':\n",
        "        return faker.name_male()\n",
        "    elif gender=='female':\n",
        "        return faker.name_female()\n",
        "    \n",
        "    return faker.name()\n",
        "    \n",
        "# Generación de nombres para cada usuario\n",
        "df['nombre_per'] = [name_gen(i) for i in df['genero_per']]"
      ]
    },
    {
      "cell_type": "code",
      "execution_count": 11,
      "metadata": {
        "id": "670b3855"
      },
      "outputs": [],
      "source": [
        "# Email del personal\n",
        "def emailGen(name, duplicateFound=False):\n",
        "    \"\"\"\n",
        "    Genera una dirección de correo electrónico aleatoria basada en el nombre de la persona. \n",
        "    Agrega un número al final si se encontró una dirección duplicada.\n",
        "    \"\"\"\n",
        "    # Nombre de dominio falso para usar\n",
        "    dom = \"@nasa.dod.com\"\n",
        "    \n",
        "    # Mayúsculas y minúsculas\n",
        "    name = name.lower().split(\" \")\n",
        "    \n",
        "    # Carácter aleatorio para insertar en el nombre\n",
        "    chars = [\".\", \"_\"]\n",
        "    \n",
        "    new_name = name[0] + random.choice(chars) + name[1] \n",
        "    \n",
        "    # Distinguir aún más el correo electrónico si se encontró un duplicado\n",
        "    if duplicateFound:\n",
        "        \n",
        "        # Número aleatorio para insertar al final\n",
        "        num = random.randint(0,100)\n",
        "        \n",
        "        # Insertar al final\n",
        "        new_name = new_name + str(num)\n",
        "        \n",
        "    # Devolver la dirección de correo electrónico con el nombre de dominio adjunto\n",
        "    return new_name + dom"
      ]
    },
    {
      "cell_type": "code",
      "execution_count": 12,
      "metadata": {
        "id": "97cd6b45"
      },
      "outputs": [],
      "source": [
        "emails = []\n",
        "\n",
        "for name in df['nombre_per']:\n",
        "    \n",
        "    # Generación del correo electrónico\n",
        "    email = emailGen(name)\n",
        "    \n",
        "    # Bucle hasta que se genere un correo electrónico único\n",
        "    while email in emails:\n",
        "        \n",
        "        # Crear un correo electrónico con un número aleatorio\n",
        "        email = emailGen(name, duplicateFound=True)\n",
        "    \n",
        "    # Adjuntar el nuevo correo electrónico a la lista\n",
        "    emails.append(email)\n",
        "    \n",
        "df['email_per'] = emails"
      ]
    },
    {
      "cell_type": "code",
      "execution_count": 13,
      "metadata": {
        "id": "07a97010"
      },
      "outputs": [],
      "source": [
        "# Fecha de nacimiento del personal\n",
        "def random_dob(start, end, n):\n",
        "    \"\"\"\n",
        "    Generar una lista de un número determinado de marcas de tiempo\n",
        "    \"\"\"\n",
        "    \n",
        "    # El formato de marca de tiempo\n",
        "    frmt = \"%Y-%m-%d\"\n",
        "    \n",
        "    # Dar formato a los dos períodos de tiempo\n",
        "    stime = datetime.datetime.strptime(start, frmt)\n",
        "    etime = datetime.datetime.strptime(end, frmt)\n",
        "    \n",
        "    # Creación del grupo para tiempos aleatorios\n",
        "    td = etime - stime\n",
        "    \n",
        "    # Generar una lista con los tiempos aleatorios\n",
        "    times = [(random.random() * td + stime).strftime(frmt) for _ in range(n)]\n",
        "    \n",
        "    return times\n",
        "\n",
        "df['fecha_nac_per'] = random_dob(\"1989-01-01\", \"1998-01-01\", num_users)"
      ]
    },
    {
      "cell_type": "code",
      "execution_count": 14,
      "metadata": {
        "id": "hjvZ1r7ZNMg2"
      },
      "outputs": [],
      "source": [
        "# Profesión del personal\n",
        "profesion_per = [\"Astronomy\",\n",
        "                 \"Physical\",\n",
        "                 \"Geology\",\n",
        "                 \"Aerospace_Engineering\",\n",
        "                 \"Environmental_Engineering\",\n",
        "                 \"Telecommunications_Engineering\",\n",
        "                 \"Electronic_Engineering\",\n",
        "                 \"Computer_Engineering\",\n",
        "                 \"Chemical_Engineering\",\n",
        "                 \"other\"]"
      ]
    },
    {
      "cell_type": "code",
      "execution_count": 16,
      "metadata": {
        "id": "rwxmrcTjNMhB",
        "colab": {
          "base_uri": "https://localhost:8080/",
          "height": 53
        },
        "outputId": "f8126272-25e2-4241-e252-8e41e447f4ae"
      },
      "outputs": [
        {
          "output_type": "execute_result",
          "data": {
            "text/plain": [
              "'\\nCon la lista generada de las opciones de profesión, se proporciona la función de opciones\\npesos para cada función y la cantidad de opciones hacer representadas por \"k\".\\nPor consiguiente, se asignó al atributo de \"profesion_per\" del marco de datos.\\n'"
            ],
            "application/vnd.google.colaboratory.intrinsic+json": {
              "type": "string"
            }
          },
          "metadata": {},
          "execution_count": 16
        }
      ],
      "source": [
        "df['profesion_per'] = random.choices(\n",
        "    profesion_per, \n",
        "    weights=(11,11,11,11,11,11,11,11,11,1), \n",
        "    k=num_users\n",
        ")\n",
        "\"\"\"\n",
        "Con la lista generada de las opciones de profesión, se proporciona la función de opciones\n",
        "pesos para cada función y la cantidad de opciones hacer representadas por \"k\".\n",
        "Por consiguiente, se asignó al atributo de \"profesion_per\" del marco de datos.\n",
        "\"\"\""
      ]
    },
    {
      "cell_type": "code",
      "execution_count": 17,
      "metadata": {
        "id": "mupmcKaMM3Ow"
      },
      "outputs": [],
      "source": [
        "# Fk \"Id_depar\"\n",
        "def idm_gen(n):\n",
        "    \"\"\"\n",
        "    Función que se encarga de crear un id unico con nomenclatura básica\n",
        "    ...\n",
        "    \n",
        "    Parametros\n",
        "    ----------\n",
        "    n : int\n",
        "        representa el numero de indice correspondiente al registro\n",
        "    \n",
        "    Return\n",
        "    ------\n",
        "    \"MSL--\"+str(n+1) : str\n",
        "        nomenclatura única de identificación del departamento correspondiente\n",
        "    \"\"\"\n",
        "    return \"DPTO-\"+str(n+1)"
      ]
    },
    {
      "cell_type": "code",
      "execution_count": 18,
      "metadata": {
        "id": "Nj7RJ9SUM3Oy"
      },
      "outputs": [],
      "source": [
        "df['Id_depar'] = [idm_gen(i) for i in range(num_users)]"
      ]
    },
    {
      "cell_type": "code",
      "execution_count": 19,
      "metadata": {
        "id": "b746f91d"
      },
      "outputs": [],
      "source": [
        "# Guardar el conjunto de datos\n",
        "df.to_csv('dataset_users.csv')"
      ]
    },
    {
      "cell_type": "code",
      "source": [
        "# Mostrar el conjunto de datos\n",
        "pd.read_csv('dataset_users.csv', index_col=0)"
      ],
      "metadata": {
        "colab": {
          "base_uri": "https://localhost:8080/",
          "height": 424
        },
        "id": "qpb0O0OjfRby",
        "outputId": "8b34e9f0-a1cc-44e2-d30a-bb2ea327ab88"
      },
      "execution_count": 20,
      "outputs": [
        {
          "output_type": "execute_result",
          "data": {
            "text/plain": [
              "        Id_per genero_per        nombre_per                      email_per  \\\n",
              "0        PRS-1       male     Daniel Wilson     daniel.wilson@nasa.dod.com   \n",
              "1        PRS-2     female      Amy Mcintyre      amy.mcintyre@nasa.dod.com   \n",
              "2        PRS-3       male    Nicholas Reyes    nicholas_reyes@nasa.dod.com   \n",
              "3        PRS-4     female        Haley Carr        haley.carr@nasa.dod.com   \n",
              "4        PRS-5       male         David Lin         david.lin@nasa.dod.com   \n",
              "...        ...        ...               ...                            ...   \n",
              "4995  PRS-4996       male        Paul Davis        paul_davis@nasa.dod.com   \n",
              "4996  PRS-4997       male  Patrick Williams  patrick.williams@nasa.dod.com   \n",
              "4997  PRS-4998       male     Daniel Phelps     daniel.phelps@nasa.dod.com   \n",
              "4998  PRS-4999       male    Charles Rivera    charles_rivera@nasa.dod.com   \n",
              "4999  PRS-5000       male      Frank Molina      frank.molina@nasa.dod.com   \n",
              "\n",
              "     fecha_nac_per              profesion_per   Id_depar  \n",
              "0       1992-08-08  Environmental_Engineering     DPTO-1  \n",
              "1       1990-04-30  Environmental_Engineering     DPTO-2  \n",
              "2       1993-10-13       Computer_Engineering     DPTO-3  \n",
              "3       1993-07-06  Environmental_Engineering     DPTO-4  \n",
              "4       1990-12-29                   Physical     DPTO-5  \n",
              "...            ...                        ...        ...  \n",
              "4995    1994-02-26      Aerospace_Engineering  DPTO-4996  \n",
              "4996    1989-09-01       Computer_Engineering  DPTO-4997  \n",
              "4997    1996-01-20       Computer_Engineering  DPTO-4998  \n",
              "4998    1994-05-16                   Physical  DPTO-4999  \n",
              "4999    1997-04-12      Aerospace_Engineering  DPTO-5000  \n",
              "\n",
              "[5000 rows x 7 columns]"
            ],
            "text/html": [
              "\n",
              "  <div id=\"df-3c68328a-700c-4b54-9a69-f24045bfc527\">\n",
              "    <div class=\"colab-df-container\">\n",
              "      <div>\n",
              "<style scoped>\n",
              "    .dataframe tbody tr th:only-of-type {\n",
              "        vertical-align: middle;\n",
              "    }\n",
              "\n",
              "    .dataframe tbody tr th {\n",
              "        vertical-align: top;\n",
              "    }\n",
              "\n",
              "    .dataframe thead th {\n",
              "        text-align: right;\n",
              "    }\n",
              "</style>\n",
              "<table border=\"1\" class=\"dataframe\">\n",
              "  <thead>\n",
              "    <tr style=\"text-align: right;\">\n",
              "      <th></th>\n",
              "      <th>Id_per</th>\n",
              "      <th>genero_per</th>\n",
              "      <th>nombre_per</th>\n",
              "      <th>email_per</th>\n",
              "      <th>fecha_nac_per</th>\n",
              "      <th>profesion_per</th>\n",
              "      <th>Id_depar</th>\n",
              "    </tr>\n",
              "  </thead>\n",
              "  <tbody>\n",
              "    <tr>\n",
              "      <th>0</th>\n",
              "      <td>PRS-1</td>\n",
              "      <td>male</td>\n",
              "      <td>Daniel Wilson</td>\n",
              "      <td>daniel.wilson@nasa.dod.com</td>\n",
              "      <td>1992-08-08</td>\n",
              "      <td>Environmental_Engineering</td>\n",
              "      <td>DPTO-1</td>\n",
              "    </tr>\n",
              "    <tr>\n",
              "      <th>1</th>\n",
              "      <td>PRS-2</td>\n",
              "      <td>female</td>\n",
              "      <td>Amy Mcintyre</td>\n",
              "      <td>amy.mcintyre@nasa.dod.com</td>\n",
              "      <td>1990-04-30</td>\n",
              "      <td>Environmental_Engineering</td>\n",
              "      <td>DPTO-2</td>\n",
              "    </tr>\n",
              "    <tr>\n",
              "      <th>2</th>\n",
              "      <td>PRS-3</td>\n",
              "      <td>male</td>\n",
              "      <td>Nicholas Reyes</td>\n",
              "      <td>nicholas_reyes@nasa.dod.com</td>\n",
              "      <td>1993-10-13</td>\n",
              "      <td>Computer_Engineering</td>\n",
              "      <td>DPTO-3</td>\n",
              "    </tr>\n",
              "    <tr>\n",
              "      <th>3</th>\n",
              "      <td>PRS-4</td>\n",
              "      <td>female</td>\n",
              "      <td>Haley Carr</td>\n",
              "      <td>haley.carr@nasa.dod.com</td>\n",
              "      <td>1993-07-06</td>\n",
              "      <td>Environmental_Engineering</td>\n",
              "      <td>DPTO-4</td>\n",
              "    </tr>\n",
              "    <tr>\n",
              "      <th>4</th>\n",
              "      <td>PRS-5</td>\n",
              "      <td>male</td>\n",
              "      <td>David Lin</td>\n",
              "      <td>david.lin@nasa.dod.com</td>\n",
              "      <td>1990-12-29</td>\n",
              "      <td>Physical</td>\n",
              "      <td>DPTO-5</td>\n",
              "    </tr>\n",
              "    <tr>\n",
              "      <th>...</th>\n",
              "      <td>...</td>\n",
              "      <td>...</td>\n",
              "      <td>...</td>\n",
              "      <td>...</td>\n",
              "      <td>...</td>\n",
              "      <td>...</td>\n",
              "      <td>...</td>\n",
              "    </tr>\n",
              "    <tr>\n",
              "      <th>4995</th>\n",
              "      <td>PRS-4996</td>\n",
              "      <td>male</td>\n",
              "      <td>Paul Davis</td>\n",
              "      <td>paul_davis@nasa.dod.com</td>\n",
              "      <td>1994-02-26</td>\n",
              "      <td>Aerospace_Engineering</td>\n",
              "      <td>DPTO-4996</td>\n",
              "    </tr>\n",
              "    <tr>\n",
              "      <th>4996</th>\n",
              "      <td>PRS-4997</td>\n",
              "      <td>male</td>\n",
              "      <td>Patrick Williams</td>\n",
              "      <td>patrick.williams@nasa.dod.com</td>\n",
              "      <td>1989-09-01</td>\n",
              "      <td>Computer_Engineering</td>\n",
              "      <td>DPTO-4997</td>\n",
              "    </tr>\n",
              "    <tr>\n",
              "      <th>4997</th>\n",
              "      <td>PRS-4998</td>\n",
              "      <td>male</td>\n",
              "      <td>Daniel Phelps</td>\n",
              "      <td>daniel.phelps@nasa.dod.com</td>\n",
              "      <td>1996-01-20</td>\n",
              "      <td>Computer_Engineering</td>\n",
              "      <td>DPTO-4998</td>\n",
              "    </tr>\n",
              "    <tr>\n",
              "      <th>4998</th>\n",
              "      <td>PRS-4999</td>\n",
              "      <td>male</td>\n",
              "      <td>Charles Rivera</td>\n",
              "      <td>charles_rivera@nasa.dod.com</td>\n",
              "      <td>1994-05-16</td>\n",
              "      <td>Physical</td>\n",
              "      <td>DPTO-4999</td>\n",
              "    </tr>\n",
              "    <tr>\n",
              "      <th>4999</th>\n",
              "      <td>PRS-5000</td>\n",
              "      <td>male</td>\n",
              "      <td>Frank Molina</td>\n",
              "      <td>frank.molina@nasa.dod.com</td>\n",
              "      <td>1997-04-12</td>\n",
              "      <td>Aerospace_Engineering</td>\n",
              "      <td>DPTO-5000</td>\n",
              "    </tr>\n",
              "  </tbody>\n",
              "</table>\n",
              "<p>5000 rows × 7 columns</p>\n",
              "</div>\n",
              "      <button class=\"colab-df-convert\" onclick=\"convertToInteractive('df-3c68328a-700c-4b54-9a69-f24045bfc527')\"\n",
              "              title=\"Convert this dataframe to an interactive table.\"\n",
              "              style=\"display:none;\">\n",
              "        \n",
              "  <svg xmlns=\"http://www.w3.org/2000/svg\" height=\"24px\"viewBox=\"0 0 24 24\"\n",
              "       width=\"24px\">\n",
              "    <path d=\"M0 0h24v24H0V0z\" fill=\"none\"/>\n",
              "    <path d=\"M18.56 5.44l.94 2.06.94-2.06 2.06-.94-2.06-.94-.94-2.06-.94 2.06-2.06.94zm-11 1L8.5 8.5l.94-2.06 2.06-.94-2.06-.94L8.5 2.5l-.94 2.06-2.06.94zm10 10l.94 2.06.94-2.06 2.06-.94-2.06-.94-.94-2.06-.94 2.06-2.06.94z\"/><path d=\"M17.41 7.96l-1.37-1.37c-.4-.4-.92-.59-1.43-.59-.52 0-1.04.2-1.43.59L10.3 9.45l-7.72 7.72c-.78.78-.78 2.05 0 2.83L4 21.41c.39.39.9.59 1.41.59.51 0 1.02-.2 1.41-.59l7.78-7.78 2.81-2.81c.8-.78.8-2.07 0-2.86zM5.41 20L4 18.59l7.72-7.72 1.47 1.35L5.41 20z\"/>\n",
              "  </svg>\n",
              "      </button>\n",
              "      \n",
              "  <style>\n",
              "    .colab-df-container {\n",
              "      display:flex;\n",
              "      flex-wrap:wrap;\n",
              "      gap: 12px;\n",
              "    }\n",
              "\n",
              "    .colab-df-convert {\n",
              "      background-color: #E8F0FE;\n",
              "      border: none;\n",
              "      border-radius: 50%;\n",
              "      cursor: pointer;\n",
              "      display: none;\n",
              "      fill: #1967D2;\n",
              "      height: 32px;\n",
              "      padding: 0 0 0 0;\n",
              "      width: 32px;\n",
              "    }\n",
              "\n",
              "    .colab-df-convert:hover {\n",
              "      background-color: #E2EBFA;\n",
              "      box-shadow: 0px 1px 2px rgba(60, 64, 67, 0.3), 0px 1px 3px 1px rgba(60, 64, 67, 0.15);\n",
              "      fill: #174EA6;\n",
              "    }\n",
              "\n",
              "    [theme=dark] .colab-df-convert {\n",
              "      background-color: #3B4455;\n",
              "      fill: #D2E3FC;\n",
              "    }\n",
              "\n",
              "    [theme=dark] .colab-df-convert:hover {\n",
              "      background-color: #434B5C;\n",
              "      box-shadow: 0px 1px 3px 1px rgba(0, 0, 0, 0.15);\n",
              "      filter: drop-shadow(0px 1px 2px rgba(0, 0, 0, 0.3));\n",
              "      fill: #FFFFFF;\n",
              "    }\n",
              "  </style>\n",
              "\n",
              "      <script>\n",
              "        const buttonEl =\n",
              "          document.querySelector('#df-3c68328a-700c-4b54-9a69-f24045bfc527 button.colab-df-convert');\n",
              "        buttonEl.style.display =\n",
              "          google.colab.kernel.accessAllowed ? 'block' : 'none';\n",
              "\n",
              "        async function convertToInteractive(key) {\n",
              "          const element = document.querySelector('#df-3c68328a-700c-4b54-9a69-f24045bfc527');\n",
              "          const dataTable =\n",
              "            await google.colab.kernel.invokeFunction('convertToInteractive',\n",
              "                                                     [key], {});\n",
              "          if (!dataTable) return;\n",
              "\n",
              "          const docLinkHtml = 'Like what you see? Visit the ' +\n",
              "            '<a target=\"_blank\" href=https://colab.research.google.com/notebooks/data_table.ipynb>data table notebook</a>'\n",
              "            + ' to learn more about interactive tables.';\n",
              "          element.innerHTML = '';\n",
              "          dataTable['output_type'] = 'display_data';\n",
              "          await google.colab.output.renderOutput(dataTable, element);\n",
              "          const docLink = document.createElement('div');\n",
              "          docLink.innerHTML = docLinkHtml;\n",
              "          element.appendChild(docLink);\n",
              "        }\n",
              "      </script>\n",
              "    </div>\n",
              "  </div>\n",
              "  "
            ]
          },
          "metadata": {},
          "execution_count": 20
        }
      ]
    }
  ]
}
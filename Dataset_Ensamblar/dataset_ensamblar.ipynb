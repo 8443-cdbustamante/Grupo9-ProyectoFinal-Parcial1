{
  "nbformat": 4,
  "nbformat_minor": 0,
  "metadata": {
    "colab": {
      "provenance": []
    },
    "kernelspec": {
      "name": "python3",
      "display_name": "Python 3"
    },
    "language_info": {
      "name": "python"
    }
  },
  "cells": [
    {
      "cell_type": "code",
      "execution_count": 1,
      "metadata": {
        "colab": {
          "base_uri": "https://localhost:8080/"
        },
        "id": "aGlU_Wjq5Q7l",
        "outputId": "0b17029a-794e-4109-f7c8-4f3206a1a81f"
      },
      "outputs": [
        {
          "output_type": "stream",
          "name": "stdout",
          "text": [
            "Looking in indexes: https://pypi.org/simple, https://us-python.pkg.dev/colab-wheels/public/simple/\n",
            "Collecting faker\n",
            "  Downloading Faker-15.3.4-py3-none-any.whl (1.6 MB)\n",
            "\u001b[K     |████████████████████████████████| 1.6 MB 23.3 MB/s \n",
            "\u001b[?25hRequirement already satisfied: python-dateutil>=2.4 in /usr/local/lib/python3.8/dist-packages (from faker) (2.8.2)\n",
            "Requirement already satisfied: six>=1.5 in /usr/local/lib/python3.8/dist-packages (from python-dateutil>=2.4->faker) (1.15.0)\n",
            "Installing collected packages: faker\n",
            "Successfully installed faker-15.3.4\n"
          ]
        }
      ],
      "source": [
        "# Uso del Pip install para poder importar la librería faker\n",
        "!pip install faker"
      ]
    },
    {
      "cell_type": "code",
      "source": [
        "# Importar librería pandas para manejar y analizar datos\n",
        "import pandas as pd\n",
        "# Importar librería uuid para crear identificadores únicos.\n",
        "import uuid\n",
        "# Importar librería random para generar datos aleatorios.\n",
        "import random\n",
        "# Importar el paquete faker para generar datos fasos.\n",
        "from faker import Faker\n",
        "# Importar la librería datetime para manejar fechas.\n",
        "import datetime\n",
        "from datetime import date\n"
      ],
      "metadata": {
        "id": "w8NoJlFi5X2Q"
      },
      "execution_count": 2,
      "outputs": []
    },
    {
      "cell_type": "code",
      "source": [
        "# Delimitación del rango del número de elementos.\n",
        "num_ensamblar = 5000"
      ],
      "metadata": {
        "id": "K569KvKJ5g9S"
      },
      "execution_count": 3,
      "outputs": []
    },
    {
      "cell_type": "code",
      "source": [
        "#Instanciación faker\n",
        "faker = Faker()"
      ],
      "metadata": {
        "id": "54Szs5tYjJKO"
      },
      "execution_count": 4,
      "outputs": []
    },
    {
      "cell_type": "code",
      "source": [
        "# Una lista de 5 características de la entidad ensamblar\n",
        "features = [\n",
        "    \"Fecha_ensamblar\",\n",
        "    \"Id_rol\",\n",
        "    \"Id_per\",\n",
        "    \"Id_mis\",\n",
        "    \"Id_com\"\n",
        "]\n",
        "# Creación de un DF para estas características\n",
        "df = pd.DataFrame(columns=features)"
      ],
      "metadata": {
        "id": "Vy2_QGUQ5kis"
      },
      "execution_count": 5,
      "outputs": []
    },
    {
      "cell_type": "code",
      "source": [
        "# Determinar fecha para ensamblar\n",
        "def fechFab_gen():\n",
        "    \"\"\"\n",
        "    Función para crear fecha de fabricación\n",
        "    ...\n",
        "    \n",
        "    Return\n",
        "    ------\n",
        "    faker.date_between('-10y') : obj datetime.date\n",
        "        generación de una fecha entre 10 años antes hasta la fecha actual\n",
        "    \"\"\"\n",
        "    return faker.date_between('-10y')"
      ],
      "metadata": {
        "id": "XiWCjzFo9oVp"
      },
      "execution_count": 6,
      "outputs": []
    },
    {
      "cell_type": "code",
      "source": [
        "df['Fecha_ensamblar'] = [fechFab_gen() for i in range(num_ensamblar)]"
      ],
      "metadata": {
        "id": "SalCKwP1-DDe"
      },
      "execution_count": 7,
      "outputs": []
    },
    {
      "cell_type": "code",
      "source": [
        "# Fk \"Id_rol\"\n",
        "def idr_gen(n):\n",
        "    \"\"\"\n",
        "    Función que se encarga de crear un id unico con nomenclatura básica\n",
        "    ...\n",
        "    \n",
        "    Return\n",
        "    ------\n",
        "    \"ROL-\"+str(n+1) : str\n",
        "        id generado con nomenclatura\n",
        "    \"\"\"\n",
        "    return \"ROL-\"+str(n+1) # id para rol"
      ],
      "metadata": {
        "id": "Tq63enpk6srR"
      },
      "execution_count": 8,
      "outputs": []
    },
    {
      "cell_type": "code",
      "source": [
        "#Generacion de datos en cada atributo\n",
        "df['Id_rol'] = [idr_gen(i) for i in range(num_ensamblar)]"
      ],
      "metadata": {
        "id": "5d5u6bEq6AA3"
      },
      "execution_count": 9,
      "outputs": []
    },
    {
      "cell_type": "code",
      "execution_count": 10,
      "metadata": {
        "id": "9417eb1d"
      },
      "outputs": [],
      "source": [
        "# Fk \"Id_per\"\n",
        "def idm_gen(n):\n",
        "    \"\"\"\n",
        "    Función que se encarga de crear un id unico con nomenclatura básica\n",
        "    ...\n",
        "    \n",
        "    Parametros\n",
        "    ----------\n",
        "    n : int\n",
        "        representa el numero de indice correspondiente al registro\n",
        "    \n",
        "    Return\n",
        "    ------\n",
        "    \"MSL--\"+str(n+1) : str\n",
        "        nomenclatura única de identificación del permiso correspondiente\n",
        "    \"\"\"\n",
        "    return \"PRS-\"+str(n+1)"
      ]
    },
    {
      "cell_type": "code",
      "execution_count": 11,
      "metadata": {
        "id": "4be6d244"
      },
      "outputs": [],
      "source": [
        "df['Id_per'] = [idm_gen(i) for i in range(num_ensamblar)]"
      ]
    },
    {
      "cell_type": "code",
      "source": [
        "# Fk \"Id_mis\"\n",
        "def idm_gen(n):\n",
        "    \"\"\"\n",
        "    Función que se encarga de crear un id unico con nomenclatura básica\n",
        "    ...\n",
        "    \n",
        "    Parametros\n",
        "    ----------\n",
        "    n : int\n",
        "        representa el numero de indice correspondiente al registro\n",
        "    \n",
        "    Return\n",
        "    ------\n",
        "    \"MSL--\"+str(n+1) : str\n",
        "        nomenclatura única de identificación del misil correspondiente\n",
        "    \"\"\"\n",
        "    return \"MSL-\"+str(n+1)"
      ],
      "metadata": {
        "id": "_olhdEPb76A-"
      },
      "execution_count": 12,
      "outputs": []
    },
    {
      "cell_type": "code",
      "source": [
        "df['Id_mis'] = [idm_gen(i) for i in range(num_ensamblar)]"
      ],
      "metadata": {
        "id": "Iz-v-dLG8FI8"
      },
      "execution_count": 13,
      "outputs": []
    },
    {
      "cell_type": "code",
      "execution_count": 14,
      "metadata": {
        "id": "9WDw2c15mw6Y"
      },
      "outputs": [],
      "source": [
        "# Fk \"Id_com\"\n",
        "def idm_gen(n):\n",
        "    \"\"\"\n",
        "    Función que se encarga de crear un id unico con nomenclatura básica\n",
        "    ...\n",
        "    \n",
        "    Parametros\n",
        "    ----------\n",
        "    n : int\n",
        "        representa el numero de indice correspondiente al registro\n",
        "    \n",
        "    Return\n",
        "    ------\n",
        "    \"MSL--\"+str(n+1) : str\n",
        "        nomenclatura única de identificación del compuesto correspondiente\n",
        "    \"\"\"\n",
        "    return \"COMPT-\"+str(n+1)"
      ]
    },
    {
      "cell_type": "code",
      "execution_count": 15,
      "metadata": {
        "id": "jg16GOpbmw6a"
      },
      "outputs": [],
      "source": [
        "df['Id_com'] = [idm_gen(i) for i in range(num_ensamblar)]"
      ]
    },
    {
      "cell_type": "code",
      "source": [
        "# Guardar el conjunto de datos\n",
        "df.to_csv('dataset_ensamblar.csv')"
      ],
      "metadata": {
        "id": "HJkvBuGH9Dvr"
      },
      "execution_count": 16,
      "outputs": []
    },
    {
      "cell_type": "code",
      "source": [
        "# Mostrar el conjunto de datos\n",
        "pd.read_csv('dataset_ensamblar.csv', index_col=0)"
      ],
      "metadata": {
        "colab": {
          "base_uri": "https://localhost:8080/",
          "height": 424
        },
        "id": "iSp4cMHd9G3k",
        "outputId": "08797e49-b0ce-45f8-f868-15d4940210e6"
      },
      "execution_count": 17,
      "outputs": [
        {
          "output_type": "execute_result",
          "data": {
            "text/plain": [
              "     Fecha_ensamblar    Id_rol    Id_per    Id_mis      Id_com\n",
              "0         2020-02-08     ROL-1     PRS-1     MSL-1     COMPT-1\n",
              "1         2016-08-18     ROL-2     PRS-2     MSL-2     COMPT-2\n",
              "2         2020-03-28     ROL-3     PRS-3     MSL-3     COMPT-3\n",
              "3         2015-05-06     ROL-4     PRS-4     MSL-4     COMPT-4\n",
              "4         2019-09-03     ROL-5     PRS-5     MSL-5     COMPT-5\n",
              "...              ...       ...       ...       ...         ...\n",
              "4995      2019-03-02  ROL-4996  PRS-4996  MSL-4996  COMPT-4996\n",
              "4996      2013-05-04  ROL-4997  PRS-4997  MSL-4997  COMPT-4997\n",
              "4997      2022-02-04  ROL-4998  PRS-4998  MSL-4998  COMPT-4998\n",
              "4998      2019-12-25  ROL-4999  PRS-4999  MSL-4999  COMPT-4999\n",
              "4999      2015-11-30  ROL-5000  PRS-5000  MSL-5000  COMPT-5000\n",
              "\n",
              "[5000 rows x 5 columns]"
            ],
            "text/html": [
              "\n",
              "  <div id=\"df-aafaf38d-4c7a-4c3e-8c73-c391880ae884\">\n",
              "    <div class=\"colab-df-container\">\n",
              "      <div>\n",
              "<style scoped>\n",
              "    .dataframe tbody tr th:only-of-type {\n",
              "        vertical-align: middle;\n",
              "    }\n",
              "\n",
              "    .dataframe tbody tr th {\n",
              "        vertical-align: top;\n",
              "    }\n",
              "\n",
              "    .dataframe thead th {\n",
              "        text-align: right;\n",
              "    }\n",
              "</style>\n",
              "<table border=\"1\" class=\"dataframe\">\n",
              "  <thead>\n",
              "    <tr style=\"text-align: right;\">\n",
              "      <th></th>\n",
              "      <th>Fecha_ensamblar</th>\n",
              "      <th>Id_rol</th>\n",
              "      <th>Id_per</th>\n",
              "      <th>Id_mis</th>\n",
              "      <th>Id_com</th>\n",
              "    </tr>\n",
              "  </thead>\n",
              "  <tbody>\n",
              "    <tr>\n",
              "      <th>0</th>\n",
              "      <td>2020-02-08</td>\n",
              "      <td>ROL-1</td>\n",
              "      <td>PRS-1</td>\n",
              "      <td>MSL-1</td>\n",
              "      <td>COMPT-1</td>\n",
              "    </tr>\n",
              "    <tr>\n",
              "      <th>1</th>\n",
              "      <td>2016-08-18</td>\n",
              "      <td>ROL-2</td>\n",
              "      <td>PRS-2</td>\n",
              "      <td>MSL-2</td>\n",
              "      <td>COMPT-2</td>\n",
              "    </tr>\n",
              "    <tr>\n",
              "      <th>2</th>\n",
              "      <td>2020-03-28</td>\n",
              "      <td>ROL-3</td>\n",
              "      <td>PRS-3</td>\n",
              "      <td>MSL-3</td>\n",
              "      <td>COMPT-3</td>\n",
              "    </tr>\n",
              "    <tr>\n",
              "      <th>3</th>\n",
              "      <td>2015-05-06</td>\n",
              "      <td>ROL-4</td>\n",
              "      <td>PRS-4</td>\n",
              "      <td>MSL-4</td>\n",
              "      <td>COMPT-4</td>\n",
              "    </tr>\n",
              "    <tr>\n",
              "      <th>4</th>\n",
              "      <td>2019-09-03</td>\n",
              "      <td>ROL-5</td>\n",
              "      <td>PRS-5</td>\n",
              "      <td>MSL-5</td>\n",
              "      <td>COMPT-5</td>\n",
              "    </tr>\n",
              "    <tr>\n",
              "      <th>...</th>\n",
              "      <td>...</td>\n",
              "      <td>...</td>\n",
              "      <td>...</td>\n",
              "      <td>...</td>\n",
              "      <td>...</td>\n",
              "    </tr>\n",
              "    <tr>\n",
              "      <th>4995</th>\n",
              "      <td>2019-03-02</td>\n",
              "      <td>ROL-4996</td>\n",
              "      <td>PRS-4996</td>\n",
              "      <td>MSL-4996</td>\n",
              "      <td>COMPT-4996</td>\n",
              "    </tr>\n",
              "    <tr>\n",
              "      <th>4996</th>\n",
              "      <td>2013-05-04</td>\n",
              "      <td>ROL-4997</td>\n",
              "      <td>PRS-4997</td>\n",
              "      <td>MSL-4997</td>\n",
              "      <td>COMPT-4997</td>\n",
              "    </tr>\n",
              "    <tr>\n",
              "      <th>4997</th>\n",
              "      <td>2022-02-04</td>\n",
              "      <td>ROL-4998</td>\n",
              "      <td>PRS-4998</td>\n",
              "      <td>MSL-4998</td>\n",
              "      <td>COMPT-4998</td>\n",
              "    </tr>\n",
              "    <tr>\n",
              "      <th>4998</th>\n",
              "      <td>2019-12-25</td>\n",
              "      <td>ROL-4999</td>\n",
              "      <td>PRS-4999</td>\n",
              "      <td>MSL-4999</td>\n",
              "      <td>COMPT-4999</td>\n",
              "    </tr>\n",
              "    <tr>\n",
              "      <th>4999</th>\n",
              "      <td>2015-11-30</td>\n",
              "      <td>ROL-5000</td>\n",
              "      <td>PRS-5000</td>\n",
              "      <td>MSL-5000</td>\n",
              "      <td>COMPT-5000</td>\n",
              "    </tr>\n",
              "  </tbody>\n",
              "</table>\n",
              "<p>5000 rows × 5 columns</p>\n",
              "</div>\n",
              "      <button class=\"colab-df-convert\" onclick=\"convertToInteractive('df-aafaf38d-4c7a-4c3e-8c73-c391880ae884')\"\n",
              "              title=\"Convert this dataframe to an interactive table.\"\n",
              "              style=\"display:none;\">\n",
              "        \n",
              "  <svg xmlns=\"http://www.w3.org/2000/svg\" height=\"24px\"viewBox=\"0 0 24 24\"\n",
              "       width=\"24px\">\n",
              "    <path d=\"M0 0h24v24H0V0z\" fill=\"none\"/>\n",
              "    <path d=\"M18.56 5.44l.94 2.06.94-2.06 2.06-.94-2.06-.94-.94-2.06-.94 2.06-2.06.94zm-11 1L8.5 8.5l.94-2.06 2.06-.94-2.06-.94L8.5 2.5l-.94 2.06-2.06.94zm10 10l.94 2.06.94-2.06 2.06-.94-2.06-.94-.94-2.06-.94 2.06-2.06.94z\"/><path d=\"M17.41 7.96l-1.37-1.37c-.4-.4-.92-.59-1.43-.59-.52 0-1.04.2-1.43.59L10.3 9.45l-7.72 7.72c-.78.78-.78 2.05 0 2.83L4 21.41c.39.39.9.59 1.41.59.51 0 1.02-.2 1.41-.59l7.78-7.78 2.81-2.81c.8-.78.8-2.07 0-2.86zM5.41 20L4 18.59l7.72-7.72 1.47 1.35L5.41 20z\"/>\n",
              "  </svg>\n",
              "      </button>\n",
              "      \n",
              "  <style>\n",
              "    .colab-df-container {\n",
              "      display:flex;\n",
              "      flex-wrap:wrap;\n",
              "      gap: 12px;\n",
              "    }\n",
              "\n",
              "    .colab-df-convert {\n",
              "      background-color: #E8F0FE;\n",
              "      border: none;\n",
              "      border-radius: 50%;\n",
              "      cursor: pointer;\n",
              "      display: none;\n",
              "      fill: #1967D2;\n",
              "      height: 32px;\n",
              "      padding: 0 0 0 0;\n",
              "      width: 32px;\n",
              "    }\n",
              "\n",
              "    .colab-df-convert:hover {\n",
              "      background-color: #E2EBFA;\n",
              "      box-shadow: 0px 1px 2px rgba(60, 64, 67, 0.3), 0px 1px 3px 1px rgba(60, 64, 67, 0.15);\n",
              "      fill: #174EA6;\n",
              "    }\n",
              "\n",
              "    [theme=dark] .colab-df-convert {\n",
              "      background-color: #3B4455;\n",
              "      fill: #D2E3FC;\n",
              "    }\n",
              "\n",
              "    [theme=dark] .colab-df-convert:hover {\n",
              "      background-color: #434B5C;\n",
              "      box-shadow: 0px 1px 3px 1px rgba(0, 0, 0, 0.15);\n",
              "      filter: drop-shadow(0px 1px 2px rgba(0, 0, 0, 0.3));\n",
              "      fill: #FFFFFF;\n",
              "    }\n",
              "  </style>\n",
              "\n",
              "      <script>\n",
              "        const buttonEl =\n",
              "          document.querySelector('#df-aafaf38d-4c7a-4c3e-8c73-c391880ae884 button.colab-df-convert');\n",
              "        buttonEl.style.display =\n",
              "          google.colab.kernel.accessAllowed ? 'block' : 'none';\n",
              "\n",
              "        async function convertToInteractive(key) {\n",
              "          const element = document.querySelector('#df-aafaf38d-4c7a-4c3e-8c73-c391880ae884');\n",
              "          const dataTable =\n",
              "            await google.colab.kernel.invokeFunction('convertToInteractive',\n",
              "                                                     [key], {});\n",
              "          if (!dataTable) return;\n",
              "\n",
              "          const docLinkHtml = 'Like what you see? Visit the ' +\n",
              "            '<a target=\"_blank\" href=https://colab.research.google.com/notebooks/data_table.ipynb>data table notebook</a>'\n",
              "            + ' to learn more about interactive tables.';\n",
              "          element.innerHTML = '';\n",
              "          dataTable['output_type'] = 'display_data';\n",
              "          await google.colab.output.renderOutput(dataTable, element);\n",
              "          const docLink = document.createElement('div');\n",
              "          docLink.innerHTML = docLinkHtml;\n",
              "          element.appendChild(docLink);\n",
              "        }\n",
              "      </script>\n",
              "    </div>\n",
              "  </div>\n",
              "  "
            ]
          },
          "metadata": {},
          "execution_count": 17
        }
      ]
    }
  ]
}
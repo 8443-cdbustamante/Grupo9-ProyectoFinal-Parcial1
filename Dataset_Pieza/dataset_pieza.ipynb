{
  "nbformat": 4,
  "nbformat_minor": 0,
  "metadata": {
    "colab": {
      "provenance": []
    },
    "kernelspec": {
      "name": "python3",
      "display_name": "Python 3"
    },
    "language_info": {
      "name": "python"
    }
  },
  "cells": [
    {
      "cell_type": "code",
      "source": [
        "# Uso del Pip install para poder importar la librería faker\n",
        "!pip install faker"
      ],
      "metadata": {
        "colab": {
          "base_uri": "https://localhost:8080/"
        },
        "id": "wswK4uWr6CdF",
        "outputId": "460f3e4e-1342-4e14-bdeb-6b823f72ee03"
      },
      "execution_count": 1,
      "outputs": [
        {
          "output_type": "stream",
          "name": "stdout",
          "text": [
            "Looking in indexes: https://pypi.org/simple, https://us-python.pkg.dev/colab-wheels/public/simple/\n",
            "Collecting faker\n",
            "  Downloading Faker-15.3.4-py3-none-any.whl (1.6 MB)\n",
            "\u001b[K     |████████████████████████████████| 1.6 MB 5.6 MB/s \n",
            "\u001b[?25hRequirement already satisfied: python-dateutil>=2.4 in /usr/local/lib/python3.8/dist-packages (from faker) (2.8.2)\n",
            "Requirement already satisfied: six>=1.5 in /usr/local/lib/python3.8/dist-packages (from python-dateutil>=2.4->faker) (1.15.0)\n",
            "Installing collected packages: faker\n",
            "Successfully installed faker-15.3.4\n"
          ]
        }
      ]
    },
    {
      "cell_type": "code",
      "execution_count": 25,
      "metadata": {
        "id": "y29B-88s5zjL"
      },
      "outputs": [],
      "source": [
        "# Importar librería pandas para manejar y analizar datos\n",
        "import pandas as pd\n",
        "# Importar librería uuid para crear identificadores únicos.\n",
        "import uuid\n",
        "# Importar librería random para generar datos aleatorios.\n",
        "import random\n",
        "# Importar el paquete faker para generar datos fasos.\n",
        "from faker import Faker\n",
        "# Importar la librería datetime para manejar fechas.\n",
        "import datetime\n",
        "from datetime import date"
      ]
    },
    {
      "cell_type": "code",
      "source": [
        "# Delimitación del rango del número de elementos.\n",
        "num_pieza = 5000"
      ],
      "metadata": {
        "id": "4peUsvex6Q_J"
      },
      "execution_count": 26,
      "outputs": []
    },
    {
      "cell_type": "code",
      "source": [
        "#Instanciación faker\n",
        "faker = Faker()"
      ],
      "metadata": {
        "id": "QWHk2-Ah6TIg"
      },
      "execution_count": 27,
      "outputs": []
    },
    {
      "cell_type": "code",
      "source": [
        "# Una lista de 5 características para la entidad pieza\n",
        "atributos = [\n",
        "    \"Id_pieza\",\n",
        "    \"nombre_pieza\",\n",
        "    \"tipo_pieza\",\n",
        "    \"cantidad_pieza\",\n",
        "    \"fecha_fac_pieza\"  \n",
        "]"
      ],
      "metadata": {
        "id": "E6WuF_Iw9ZZy"
      },
      "execution_count": 28,
      "outputs": []
    },
    {
      "cell_type": "code",
      "source": [
        "# Nombres de Combustibles\n",
        "nombre =[\n",
        "    \"combustible-A\",\n",
        "    \"combustible-B\",\n",
        "    \"combustible-C\",\n",
        "    \"tornillo-A\",\n",
        "    \"tornillo-B\",\n",
        "    \"Plancha acero\",\n",
        "    \"Plancha aluminio\",\n",
        "    \"Plancha kevlar\",\n",
        "    \"Tarjeta PCB\",\n",
        "    \"Procesadores\",\n",
        "    \"Panel solar\",\n",
        "    \"Sensor-A\",\n",
        "    \"Sensor-B\",\n",
        "    \"Sensor-C\",\n",
        "    \"Antena-A\",\n",
        "    \"Antena-B\"\n",
        "    \"OS-A\",\n",
        "    \"OS-B\",\n",
        "    \"system-A\",\n",
        "    \"system-B\"\n",
        "]"
      ],
      "metadata": {
        "id": "Kz3SIXQJ9c5P"
      },
      "execution_count": 29,
      "outputs": []
    },
    {
      "cell_type": "code",
      "source": [
        "# Tipo de combustibles\n",
        "tipo = [\n",
        "    \"Quimico\",\n",
        "    \"Mecanico\",\n",
        "    \"Electronico\",\n",
        "    \"Software\"\n",
        "]"
      ],
      "metadata": {
        "id": "Q5rLV9_z9ejM"
      },
      "execution_count": 30,
      "outputs": []
    },
    {
      "cell_type": "code",
      "source": [
        "# Creación de un DF para las 5 características de la entidad pieza\n",
        "df = pd.DataFrame(columns = atributos)"
      ],
      "metadata": {
        "id": "IGI2G0mX9gZ9"
      },
      "execution_count": 31,
      "outputs": []
    },
    {
      "cell_type": "code",
      "source": [
        "# id para cada pieza\n",
        "def id_gen(n):\n",
        "    \"\"\"\n",
        "    Función para crear la id única\n",
        "    ...\n",
        "    Parametro\n",
        "    n : int\n",
        "        corresponde al numero indicador del registro correspondiente \n",
        "    \n",
        "    Return\n",
        "    ------\n",
        "    \"PZ-\"+str(n+1) : str\n",
        "        se crea las identificaciones únicas para las piezas\n",
        "    \"\"\"\n",
        "    return \"PZ-\"+str(n+1)"
      ],
      "metadata": {
        "id": "drVTfkBN9m5e"
      },
      "execution_count": 32,
      "outputs": []
    },
    {
      "cell_type": "code",
      "source": [
        "df['Id_pieza'] = [id_gen(i) for i in range(num_pieza)]"
      ],
      "metadata": {
        "id": "c2KV3JbJ937G"
      },
      "execution_count": 33,
      "outputs": []
    },
    {
      "cell_type": "code",
      "source": [
        "# Nombre para pieza\n",
        "def nombre_gen():\n",
        "    \"\"\"\n",
        "    Función para asignación del nombre de la pieza\n",
        "    ...\n",
        "    \n",
        "    Return\n",
        "    ------\n",
        "    \"random.choice(nombre) : str\n",
        "        De forma aleatoria, se asigna un nombre a la pieza\n",
        "    \"\"\"\n",
        "    return random.choice(nombre)"
      ],
      "metadata": {
        "id": "GOPKDaKM9yAw"
      },
      "execution_count": 34,
      "outputs": []
    },
    {
      "cell_type": "code",
      "source": [
        "df['nombre_pieza'] = [nombre_gen() for i in range(num_pieza)]"
      ],
      "metadata": {
        "id": "MOOhplgi97D9"
      },
      "execution_count": 35,
      "outputs": []
    },
    {
      "cell_type": "code",
      "source": [
        "# Tipo de pieza\n",
        "def tipo_gen(name):\n",
        "    \"\"\"\n",
        "    Función que dá el tipo de pieza\n",
        "    ...\n",
        "    image.png\n",
        "    Return\n",
        "    ------\n",
        "    random.choice(tipo): str\n",
        "        Selección aleatoria de tipo de pieza\n",
        "    \"\"\"\n",
        "    #obtencion del indice de nombre\n",
        "    ind = nombre.index(name)\n",
        "    if (ind >= 0 and ind <=2):\n",
        "        return tipo[0]\n",
        "    elif (ind >= 3 and ind <=7):\n",
        "        return tipo[1]\n",
        "    elif (ind >= 8 and ind <=15):\n",
        "        return tipo[2]\n",
        "    elif (ind >= 16 and ind <=19):\n",
        "        return tipo[3]\n",
        "    return \"NA\""
      ],
      "metadata": {
        "id": "Tb2vnDmu9stR"
      },
      "execution_count": 36,
      "outputs": []
    },
    {
      "cell_type": "code",
      "source": [
        "df['tipo_pieza'] = [tipo_gen(i) for i in df['nombre_pieza']]"
      ],
      "metadata": {
        "id": "1NPANMfi9-U8"
      },
      "execution_count": 37,
      "outputs": []
    },
    {
      "cell_type": "code",
      "source": [
        "# Cantidad de piezas\n",
        "def cantidad_gen():\n",
        "    \"\"\"\n",
        "    Función para crear la cantidad\n",
        "    ...\n",
        "   \n",
        "    Return\n",
        "    ------\n",
        "   random.randint(1,100)) : int\n",
        "        se crea un entero entre 1 a 100\n",
        "    \"\"\"\n",
        "    return random.randint(1,100)"
      ],
      "metadata": {
        "id": "8lAX44kk9pua"
      },
      "execution_count": 38,
      "outputs": []
    },
    {
      "cell_type": "code",
      "source": [
        "df['cantidad_pieza'] = [cantidad_gen() for i in range(num_pieza)]"
      ],
      "metadata": {
        "id": "gWnLPa6o-BMz"
      },
      "execution_count": 39,
      "outputs": []
    },
    {
      "cell_type": "code",
      "source": [
        "# Gerar fecha de fabricacion para cada pieza\n",
        "def fechFab_gen():\n",
        "    \"\"\"\n",
        "    Función para crear fecha de fabricación\n",
        "    ...\n",
        "    \n",
        "    Return\n",
        "    ------\n",
        "    faker.date_between('-10y') : obj datetime.date\n",
        "        generación de una fecha entre 10 años antes hasta la fecha actual\n",
        "    \"\"\"\n",
        "    return faker.date_between('-10y')"
      ],
      "metadata": {
        "id": "XiWCjzFo9oVp"
      },
      "execution_count": 40,
      "outputs": []
    },
    {
      "cell_type": "code",
      "source": [
        "df['fecha_fac_pieza'] = [fechFab_gen() for i in range(num_pieza)]"
      ],
      "metadata": {
        "id": "SalCKwP1-DDe"
      },
      "execution_count": 41,
      "outputs": []
    },
    {
      "cell_type": "code",
      "source": [
        "# Guardar el conjunto de datos\n",
        "df.to_csv('dataset_pieza.csv')"
      ],
      "metadata": {
        "id": "NPnWFp-q-E49"
      },
      "execution_count": 42,
      "outputs": []
    },
    {
      "cell_type": "code",
      "source": [
        "# Mostrar el conjunto de datos\n",
        "pd.read_csv('dataset_pieza.csv', index_col=0)"
      ],
      "metadata": {
        "colab": {
          "base_uri": "https://localhost:8080/",
          "height": 424
        },
        "id": "_SQrC08_-HYl",
        "outputId": "845887fa-d9d5-4a2b-a486-c7c54c279b3e"
      },
      "execution_count": 43,
      "outputs": [
        {
          "output_type": "execute_result",
          "data": {
            "text/plain": [
              "     Id_pieza    nombre_pieza   tipo_pieza  cantidad_pieza fecha_fac_pieza\n",
              "0        PZ-1   Plancha acero     Mecanico              43      2012-12-03\n",
              "1        PZ-2    Procesadores  Electronico              58      2015-06-06\n",
              "2        PZ-3   combustible-A      Quimico              75      2019-07-14\n",
              "3        PZ-4            OS-B     Software              63      2018-03-03\n",
              "4        PZ-5     Panel solar  Electronico              85      2021-03-31\n",
              "...       ...             ...          ...             ...             ...\n",
              "4995  PZ-4996      tornillo-B     Mecanico               8      2019-11-21\n",
              "4996  PZ-4997        Antena-A  Electronico              39      2014-09-01\n",
              "4997  PZ-4998        system-B     Software              83      2019-06-04\n",
              "4998  PZ-4999  Plancha kevlar     Mecanico               2      2016-05-04\n",
              "4999  PZ-5000        system-B     Software              48      2015-02-07\n",
              "\n",
              "[5000 rows x 5 columns]"
            ],
            "text/html": [
              "\n",
              "  <div id=\"df-63863f41-2f49-44cb-9a08-aa39d482890b\">\n",
              "    <div class=\"colab-df-container\">\n",
              "      <div>\n",
              "<style scoped>\n",
              "    .dataframe tbody tr th:only-of-type {\n",
              "        vertical-align: middle;\n",
              "    }\n",
              "\n",
              "    .dataframe tbody tr th {\n",
              "        vertical-align: top;\n",
              "    }\n",
              "\n",
              "    .dataframe thead th {\n",
              "        text-align: right;\n",
              "    }\n",
              "</style>\n",
              "<table border=\"1\" class=\"dataframe\">\n",
              "  <thead>\n",
              "    <tr style=\"text-align: right;\">\n",
              "      <th></th>\n",
              "      <th>Id_pieza</th>\n",
              "      <th>nombre_pieza</th>\n",
              "      <th>tipo_pieza</th>\n",
              "      <th>cantidad_pieza</th>\n",
              "      <th>fecha_fac_pieza</th>\n",
              "    </tr>\n",
              "  </thead>\n",
              "  <tbody>\n",
              "    <tr>\n",
              "      <th>0</th>\n",
              "      <td>PZ-1</td>\n",
              "      <td>Plancha acero</td>\n",
              "      <td>Mecanico</td>\n",
              "      <td>43</td>\n",
              "      <td>2012-12-03</td>\n",
              "    </tr>\n",
              "    <tr>\n",
              "      <th>1</th>\n",
              "      <td>PZ-2</td>\n",
              "      <td>Procesadores</td>\n",
              "      <td>Electronico</td>\n",
              "      <td>58</td>\n",
              "      <td>2015-06-06</td>\n",
              "    </tr>\n",
              "    <tr>\n",
              "      <th>2</th>\n",
              "      <td>PZ-3</td>\n",
              "      <td>combustible-A</td>\n",
              "      <td>Quimico</td>\n",
              "      <td>75</td>\n",
              "      <td>2019-07-14</td>\n",
              "    </tr>\n",
              "    <tr>\n",
              "      <th>3</th>\n",
              "      <td>PZ-4</td>\n",
              "      <td>OS-B</td>\n",
              "      <td>Software</td>\n",
              "      <td>63</td>\n",
              "      <td>2018-03-03</td>\n",
              "    </tr>\n",
              "    <tr>\n",
              "      <th>4</th>\n",
              "      <td>PZ-5</td>\n",
              "      <td>Panel solar</td>\n",
              "      <td>Electronico</td>\n",
              "      <td>85</td>\n",
              "      <td>2021-03-31</td>\n",
              "    </tr>\n",
              "    <tr>\n",
              "      <th>...</th>\n",
              "      <td>...</td>\n",
              "      <td>...</td>\n",
              "      <td>...</td>\n",
              "      <td>...</td>\n",
              "      <td>...</td>\n",
              "    </tr>\n",
              "    <tr>\n",
              "      <th>4995</th>\n",
              "      <td>PZ-4996</td>\n",
              "      <td>tornillo-B</td>\n",
              "      <td>Mecanico</td>\n",
              "      <td>8</td>\n",
              "      <td>2019-11-21</td>\n",
              "    </tr>\n",
              "    <tr>\n",
              "      <th>4996</th>\n",
              "      <td>PZ-4997</td>\n",
              "      <td>Antena-A</td>\n",
              "      <td>Electronico</td>\n",
              "      <td>39</td>\n",
              "      <td>2014-09-01</td>\n",
              "    </tr>\n",
              "    <tr>\n",
              "      <th>4997</th>\n",
              "      <td>PZ-4998</td>\n",
              "      <td>system-B</td>\n",
              "      <td>Software</td>\n",
              "      <td>83</td>\n",
              "      <td>2019-06-04</td>\n",
              "    </tr>\n",
              "    <tr>\n",
              "      <th>4998</th>\n",
              "      <td>PZ-4999</td>\n",
              "      <td>Plancha kevlar</td>\n",
              "      <td>Mecanico</td>\n",
              "      <td>2</td>\n",
              "      <td>2016-05-04</td>\n",
              "    </tr>\n",
              "    <tr>\n",
              "      <th>4999</th>\n",
              "      <td>PZ-5000</td>\n",
              "      <td>system-B</td>\n",
              "      <td>Software</td>\n",
              "      <td>48</td>\n",
              "      <td>2015-02-07</td>\n",
              "    </tr>\n",
              "  </tbody>\n",
              "</table>\n",
              "<p>5000 rows × 5 columns</p>\n",
              "</div>\n",
              "      <button class=\"colab-df-convert\" onclick=\"convertToInteractive('df-63863f41-2f49-44cb-9a08-aa39d482890b')\"\n",
              "              title=\"Convert this dataframe to an interactive table.\"\n",
              "              style=\"display:none;\">\n",
              "        \n",
              "  <svg xmlns=\"http://www.w3.org/2000/svg\" height=\"24px\"viewBox=\"0 0 24 24\"\n",
              "       width=\"24px\">\n",
              "    <path d=\"M0 0h24v24H0V0z\" fill=\"none\"/>\n",
              "    <path d=\"M18.56 5.44l.94 2.06.94-2.06 2.06-.94-2.06-.94-.94-2.06-.94 2.06-2.06.94zm-11 1L8.5 8.5l.94-2.06 2.06-.94-2.06-.94L8.5 2.5l-.94 2.06-2.06.94zm10 10l.94 2.06.94-2.06 2.06-.94-2.06-.94-.94-2.06-.94 2.06-2.06.94z\"/><path d=\"M17.41 7.96l-1.37-1.37c-.4-.4-.92-.59-1.43-.59-.52 0-1.04.2-1.43.59L10.3 9.45l-7.72 7.72c-.78.78-.78 2.05 0 2.83L4 21.41c.39.39.9.59 1.41.59.51 0 1.02-.2 1.41-.59l7.78-7.78 2.81-2.81c.8-.78.8-2.07 0-2.86zM5.41 20L4 18.59l7.72-7.72 1.47 1.35L5.41 20z\"/>\n",
              "  </svg>\n",
              "      </button>\n",
              "      \n",
              "  <style>\n",
              "    .colab-df-container {\n",
              "      display:flex;\n",
              "      flex-wrap:wrap;\n",
              "      gap: 12px;\n",
              "    }\n",
              "\n",
              "    .colab-df-convert {\n",
              "      background-color: #E8F0FE;\n",
              "      border: none;\n",
              "      border-radius: 50%;\n",
              "      cursor: pointer;\n",
              "      display: none;\n",
              "      fill: #1967D2;\n",
              "      height: 32px;\n",
              "      padding: 0 0 0 0;\n",
              "      width: 32px;\n",
              "    }\n",
              "\n",
              "    .colab-df-convert:hover {\n",
              "      background-color: #E2EBFA;\n",
              "      box-shadow: 0px 1px 2px rgba(60, 64, 67, 0.3), 0px 1px 3px 1px rgba(60, 64, 67, 0.15);\n",
              "      fill: #174EA6;\n",
              "    }\n",
              "\n",
              "    [theme=dark] .colab-df-convert {\n",
              "      background-color: #3B4455;\n",
              "      fill: #D2E3FC;\n",
              "    }\n",
              "\n",
              "    [theme=dark] .colab-df-convert:hover {\n",
              "      background-color: #434B5C;\n",
              "      box-shadow: 0px 1px 3px 1px rgba(0, 0, 0, 0.15);\n",
              "      filter: drop-shadow(0px 1px 2px rgba(0, 0, 0, 0.3));\n",
              "      fill: #FFFFFF;\n",
              "    }\n",
              "  </style>\n",
              "\n",
              "      <script>\n",
              "        const buttonEl =\n",
              "          document.querySelector('#df-63863f41-2f49-44cb-9a08-aa39d482890b button.colab-df-convert');\n",
              "        buttonEl.style.display =\n",
              "          google.colab.kernel.accessAllowed ? 'block' : 'none';\n",
              "\n",
              "        async function convertToInteractive(key) {\n",
              "          const element = document.querySelector('#df-63863f41-2f49-44cb-9a08-aa39d482890b');\n",
              "          const dataTable =\n",
              "            await google.colab.kernel.invokeFunction('convertToInteractive',\n",
              "                                                     [key], {});\n",
              "          if (!dataTable) return;\n",
              "\n",
              "          const docLinkHtml = 'Like what you see? Visit the ' +\n",
              "            '<a target=\"_blank\" href=https://colab.research.google.com/notebooks/data_table.ipynb>data table notebook</a>'\n",
              "            + ' to learn more about interactive tables.';\n",
              "          element.innerHTML = '';\n",
              "          dataTable['output_type'] = 'display_data';\n",
              "          await google.colab.output.renderOutput(dataTable, element);\n",
              "          const docLink = document.createElement('div');\n",
              "          docLink.innerHTML = docLinkHtml;\n",
              "          element.appendChild(docLink);\n",
              "        }\n",
              "      </script>\n",
              "    </div>\n",
              "  </div>\n",
              "  "
            ]
          },
          "metadata": {},
          "execution_count": 43
        }
      ]
    }
  ]
}